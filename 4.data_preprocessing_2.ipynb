{
 "cells": [
  {
   "cell_type": "code",
   "execution_count": 4,
   "metadata": {},
   "outputs": [],
   "source": [
    "import pandas as pd\n",
    "import os \n",
    "\n",
    "import matplotlib.pyplot as plt\n",
    "plt.rcParams['font.family'] ='Malgun Gothic'\n",
    "plt.rcParams['axes.unicode_minus'] =False\n",
    "\n",
    "import seaborn as sns\n",
    "import numpy as np\n",
    "\n",
    "from pytimekr import pytimekr\n",
    "\n",
    "import warnings\n",
    "warnings.filterwarnings(action='ignore')"
   ]
  },
  {
   "cell_type": "code",
   "execution_count": 7,
   "metadata": {},
   "outputs": [
    {
     "data": {
      "text/html": [
       "<div>\n",
       "<style scoped>\n",
       "    .dataframe tbody tr th:only-of-type {\n",
       "        vertical-align: middle;\n",
       "    }\n",
       "\n",
       "    .dataframe tbody tr th {\n",
       "        vertical-align: top;\n",
       "    }\n",
       "\n",
       "    .dataframe thead th {\n",
       "        text-align: right;\n",
       "    }\n",
       "</style>\n",
       "<table border=\"1\" class=\"dataframe\">\n",
       "  <thead>\n",
       "    <tr style=\"text-align: right;\">\n",
       "      <th></th>\n",
       "      <th>tm</th>\n",
       "      <th>year</th>\n",
       "      <th>season</th>\n",
       "      <th>month</th>\n",
       "      <th>day</th>\n",
       "      <th>hh24</th>\n",
       "      <th>weekday</th>\n",
       "      <th>week_name</th>\n",
       "      <th>sin_time</th>\n",
       "      <th>cos_time</th>\n",
       "      <th>num</th>\n",
       "      <th>stn</th>\n",
       "      <th>nph_ta</th>\n",
       "      <th>nph_hm</th>\n",
       "      <th>CDH</th>\n",
       "      <th>THI</th>\n",
       "      <th>nph_ws_10m</th>\n",
       "      <th>nph_rn_60m</th>\n",
       "      <th>nph_ta_chi</th>\n",
       "      <th>elec</th>\n",
       "    </tr>\n",
       "  </thead>\n",
       "  <tbody>\n",
       "    <tr>\n",
       "      <th>0</th>\n",
       "      <td>2020-01-01 01:00:00</td>\n",
       "      <td>2020</td>\n",
       "      <td>3</td>\n",
       "      <td>1</td>\n",
       "      <td>1</td>\n",
       "      <td>1</td>\n",
       "      <td>2</td>\n",
       "      <td>0</td>\n",
       "      <td>0.258819</td>\n",
       "      <td>0.965926</td>\n",
       "      <td>13615</td>\n",
       "      <td>140</td>\n",
       "      <td>-8.5</td>\n",
       "      <td>74.5</td>\n",
       "      <td>-34.5</td>\n",
       "      <td>1.538975</td>\n",
       "      <td>0.9</td>\n",
       "      <td>0.0</td>\n",
       "      <td>-5.8</td>\n",
       "      <td>99.63</td>\n",
       "    </tr>\n",
       "    <tr>\n",
       "      <th>1</th>\n",
       "      <td>2020-01-01 01:00:00</td>\n",
       "      <td>2020</td>\n",
       "      <td>3</td>\n",
       "      <td>1</td>\n",
       "      <td>1</td>\n",
       "      <td>1</td>\n",
       "      <td>2</td>\n",
       "      <td>0</td>\n",
       "      <td>0.258819</td>\n",
       "      <td>0.965926</td>\n",
       "      <td>18235</td>\n",
       "      <td>565</td>\n",
       "      <td>-8.8</td>\n",
       "      <td>25.6</td>\n",
       "      <td>-34.8</td>\n",
       "      <td>7.943264</td>\n",
       "      <td>1.9</td>\n",
       "      <td>0.0</td>\n",
       "      <td>-4.6</td>\n",
       "      <td>103.49</td>\n",
       "    </tr>\n",
       "    <tr>\n",
       "      <th>2</th>\n",
       "      <td>2020-01-01 01:00:00</td>\n",
       "      <td>2020</td>\n",
       "      <td>3</td>\n",
       "      <td>1</td>\n",
       "      <td>1</td>\n",
       "      <td>1</td>\n",
       "      <td>2</td>\n",
       "      <td>0</td>\n",
       "      <td>0.258819</td>\n",
       "      <td>0.965926</td>\n",
       "      <td>18234</td>\n",
       "      <td>565</td>\n",
       "      <td>-8.8</td>\n",
       "      <td>25.6</td>\n",
       "      <td>-34.8</td>\n",
       "      <td>7.943264</td>\n",
       "      <td>1.9</td>\n",
       "      <td>0.0</td>\n",
       "      <td>-4.6</td>\n",
       "      <td>104.43</td>\n",
       "    </tr>\n",
       "    <tr>\n",
       "      <th>3</th>\n",
       "      <td>2020-01-01 01:00:00</td>\n",
       "      <td>2020</td>\n",
       "      <td>3</td>\n",
       "      <td>1</td>\n",
       "      <td>1</td>\n",
       "      <td>1</td>\n",
       "      <td>2</td>\n",
       "      <td>0</td>\n",
       "      <td>0.258819</td>\n",
       "      <td>0.965926</td>\n",
       "      <td>18233</td>\n",
       "      <td>512</td>\n",
       "      <td>-6.3</td>\n",
       "      <td>31.3</td>\n",
       "      <td>-32.3</td>\n",
       "      <td>9.196031</td>\n",
       "      <td>2.5</td>\n",
       "      <td>0.0</td>\n",
       "      <td>-7.8</td>\n",
       "      <td>106.29</td>\n",
       "    </tr>\n",
       "    <tr>\n",
       "      <th>4</th>\n",
       "      <td>2020-01-01 01:00:00</td>\n",
       "      <td>2020</td>\n",
       "      <td>3</td>\n",
       "      <td>1</td>\n",
       "      <td>1</td>\n",
       "      <td>1</td>\n",
       "      <td>2</td>\n",
       "      <td>0</td>\n",
       "      <td>0.258819</td>\n",
       "      <td>0.965926</td>\n",
       "      <td>11272</td>\n",
       "      <td>941</td>\n",
       "      <td>2.4</td>\n",
       "      <td>68.0</td>\n",
       "      <td>-23.6</td>\n",
       "      <td>19.353600</td>\n",
       "      <td>1.2</td>\n",
       "      <td>0.0</td>\n",
       "      <td>-5.3</td>\n",
       "      <td>102.45</td>\n",
       "    </tr>\n",
       "  </tbody>\n",
       "</table>\n",
       "</div>"
      ],
      "text/plain": [
       "                   tm  year  season  month  day  hh24  weekday  week_name  \\\n",
       "0 2020-01-01 01:00:00  2020       3      1    1     1        2          0   \n",
       "1 2020-01-01 01:00:00  2020       3      1    1     1        2          0   \n",
       "2 2020-01-01 01:00:00  2020       3      1    1     1        2          0   \n",
       "3 2020-01-01 01:00:00  2020       3      1    1     1        2          0   \n",
       "4 2020-01-01 01:00:00  2020       3      1    1     1        2          0   \n",
       "\n",
       "   sin_time  cos_time    num  stn  nph_ta  nph_hm   CDH        THI  \\\n",
       "0  0.258819  0.965926  13615  140    -8.5    74.5 -34.5   1.538975   \n",
       "1  0.258819  0.965926  18235  565    -8.8    25.6 -34.8   7.943264   \n",
       "2  0.258819  0.965926  18234  565    -8.8    25.6 -34.8   7.943264   \n",
       "3  0.258819  0.965926  18233  512    -6.3    31.3 -32.3   9.196031   \n",
       "4  0.258819  0.965926  11272  941     2.4    68.0 -23.6  19.353600   \n",
       "\n",
       "   nph_ws_10m  nph_rn_60m  nph_ta_chi    elec  \n",
       "0         0.9         0.0        -5.8   99.63  \n",
       "1         1.9         0.0        -4.6  103.49  \n",
       "2         1.9         0.0        -4.6  104.43  \n",
       "3         2.5         0.0        -7.8  106.29  \n",
       "4         1.2         0.0        -5.3  102.45  "
      ]
     },
     "execution_count": 7,
     "metadata": {},
     "output_type": "execute_result"
    }
   ],
   "source": [
    "database = pd.read_csv('./data/train_preprocessed.csv')\n",
    "database['tm'] = pd.to_datetime(database['tm'])\n",
    "database.head()"
   ]
  },
  {
   "cell_type": "markdown",
   "metadata": {},
   "source": [
    "### 그룹화 \n",
    "\n",
    "격자 종류가 너무 많다. 온도와 습도, 풍속을 측정한 값이 같으면 같은 지역이라고 할 수 있다. \n",
    "\n",
    "온도와 습도, 풍속이 같은 값끼리 그룹화를 해보자 \n",
    "\n",
    "또는 같은 AWS 측정 넘버가 같은것끼리 그룹화를 해본다."
   ]
  },
  {
   "cell_type": "code",
   "execution_count": 9,
   "metadata": {},
   "outputs": [
    {
     "name": "stdout",
     "output_type": "stream",
     "text": [
      "2020-01-01 01:00:00 2023-01-01 00:00:00\n",
      "23\n",
      "300\n"
     ]
    }
   ],
   "source": [
    "# 먼저 2020년 기록이 있는 데이터와 없는 데이터끼리 나눠보자 \n",
    "spots_num = sorted(database['num'].unique().tolist())\n",
    "df_1 = database[database['num']==spots_num[1]]\n",
    "\n",
    "print(df_1['tm'].min(), df_1['tm'].max())\n",
    "\n",
    "no_2020 = []\n",
    "yes_2020 = []\n",
    "for i in range(len(spots_num)):\n",
    "    a = str(database[database['num']==spots_num[i]]['tm'].min())\n",
    "    b = str(df_1['tm'].min())\n",
    "\n",
    "    if a != b:\n",
    "        no_2020.append(spots_num[i])\n",
    "    else:\n",
    "        yes_2020.append(spots_num[i])\n",
    "        \n",
    "print(len(no_2020))  # 2020년도 데이터가 없는 격자 지역 개수 23개\n",
    "print(len(yes_2020)) # 2020년도 데이터가 있는 격자 지역 개수 300개"
   ]
  },
  {
   "cell_type": "code",
   "execution_count": 10,
   "metadata": {},
   "outputs": [],
   "source": [
    "df1 = database[database['num'].isin(yes_2020)]\n",
    "df2 = database[database['num'].isin(no_2020)]"
   ]
  },
  {
   "cell_type": "code",
   "execution_count": 15,
   "metadata": {},
   "outputs": [
    {
     "name": "stdout",
     "output_type": "stream",
     "text": [
      "[16900 16913 18828 14378 14258 15849 13648  4821  8994 10224 10975 12618\n",
      " 12467 12322 13202 12619 11271 11562 11376 11119  9609 10976 13360]\n",
      "23\n"
     ]
    }
   ],
   "source": [
    "print(df2['num'].unique())\n",
    "\n",
    "print(len(df2['num'].unique()))"
   ]
  },
  {
   "cell_type": "code",
   "execution_count": 16,
   "metadata": {},
   "outputs": [
    {
     "name": "stdout",
     "output_type": "stream",
     "text": [
      "[495 127 511 605 138 177 845 884 261 313 942 152 900 901 827 941 899 252\n",
      " 908 168 283]\n",
      "21\n"
     ]
    }
   ],
   "source": [
    "print(df2['stn'].unique())\n",
    "\n",
    "print(len(df2['stn'].unique()))"
   ]
  },
  {
   "cell_type": "code",
   "execution_count": 20,
   "metadata": {},
   "outputs": [
    {
     "data": {
      "image/png": "[encoded data removed]",
      "text/plain": [
       "<Figure size 1500x500 with 10 Axes>"
      ]
     },
     "metadata": {},
     "output_type": "display_data"
    }
   ],
   "source": [
    "fig = plt.figure(figsize = (15, 5))\n",
    "for idx, num in enumerate(no_2020[:10]):\n",
    "    ax = plt.subplot(2, 5, 1+idx)\n",
    "    energy = df2.loc[df2['num'] == no_2020[idx], 'elec'].values\n",
    "    mean = energy.mean().round(3)           # 평균\n",
    "    std = energy.std().round(3)             # 편차\n",
    "    skew = (3*(mean - np.median(energy))/energy.std()).round(3) # 왜도\n",
    "\n",
    "    # 왜도에 따라 \n",
    "    if skew >= 1.5:\n",
    "        plt.hist(energy, alpha = 0.7, bins = 50, color = 'red')\n",
    "    elif skew <= -1.5:\n",
    "        plt.hist(energy, alpha = 0.7, bins = 50, color = 'blue')\n",
    "    else:\n",
    "        plt.hist(energy, alpha = 0.7, bins = 50, color = 'gray')\n",
    "        \n",
    "    plt.title(f'격자넘버: {no_2020[idx]}')\n",
    "    plt.xticks([])\n",
    "    plt.yticks([])\n",
    "    plt.xlabel('')\n",
    "    plt.ylabel('')\n",
    "    \n",
    "plt.tight_layout()\n",
    "plt.show()"
   ]
  },
  {
   "cell_type": "code",
   "execution_count": null,
   "metadata": {},
   "outputs": [],
   "source": [
    "## chk feature correlation visually\n",
    "\n",
    "fig, axes = plt.subplots(2, 4, figsize=(10,7))\n",
    "\n",
    "df2.plot(x='nph_ta', y='elec', kind='scatter', alpha=0.1, ax=axes[1,0])\n",
    "df2.plot(x='nph_hm', y='elec', kind='scatter', alpha=0.1, ax=axes[1,1])\n",
    "df2.plot(x='nph_ws_10m', y='elec', kind='scatter', alpha=0.1, ax=axes[0])\n",
    "df2.plot(x='nph_rn_60m', y='elec', kind='scatter', alpha=0.1, ax=axes[1])\n",
    "df2.plot(x='nph_ta_chi', y='elec', kind='scatter', alpha=0.1, ax=axes[2])\n",
    "\n",
    "\n",
    "fig.tight_layout()"
   ]
  },
  {
   "cell_type": "code",
   "execution_count": null,
   "metadata": {},
   "outputs": [],
   "source": [
    "s = database[database.datetime=='2020-06-01 00:00:00'].groupby(['temperature', 'windspeed']).ngroup()\n",
    "s.name = 'mgrp'"
   ]
  }
 ],
 "metadata": {
  "kernelspec": {
   "display_name": "contest",
   "language": "python",
   "name": "python3"
  },
  "language_info": {
   "codemirror_mode": {
    "name": "ipython",
    "version": 3
   },
   "file_extension": ".py",
   "mimetype": "text/x-python",
   "name": "python",
   "nbconvert_exporter": "python",
   "pygments_lexer": "ipython3",
   "version": "3.11.9"
  }
 },
 "nbformat": 4,
 "nbformat_minor": 2
}

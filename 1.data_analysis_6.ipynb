{
 "cells": [
  {
   "cell_type": "markdown",
   "metadata": {},
   "source": [
    "# 2024 날씨 빅데이터 콘테스트 \n",
    "\n",
    "## 전력 분야 - 기상에 따른 공동주택 전력수요 예측 개선 "
   ]
  },
  {
   "cell_type": "code",
   "execution_count": 40,
   "metadata": {},
   "outputs": [],
   "source": [
    "import pandas as pd\n",
    "import os \n",
    "\n",
    "import matplotlib.pyplot as plt\n",
    "\n",
    "import warnings\n",
    "warnings.filterwarnings(action='ignore')"
   ]
  },
  {
   "cell_type": "code",
   "execution_count": 41,
   "metadata": {},
   "outputs": [
    {
     "name": "stdout",
     "output_type": "stream",
     "text": [
      "(7593355, 16)\n"
     ]
    }
   ],
   "source": [
    "df = pd.read_csv('./data/electric_train_cp949.csv', encoding='cp949', index_col=0)\n",
    "df['electric_train.tm'] = pd.to_datetime(df['electric_train.tm'])\n",
    "\n",
    "print(df.shape)"
   ]
  },
  {
   "cell_type": "code",
   "execution_count": 42,
   "metadata": {},
   "outputs": [
    {
     "data": {
      "text/html": [
       "<div>\n",
       "<style scoped>\n",
       "    .dataframe tbody tr th:only-of-type {\n",
       "        vertical-align: middle;\n",
       "    }\n",
       "\n",
       "    .dataframe tbody tr th {\n",
       "        vertical-align: top;\n",
       "    }\n",
       "\n",
       "    .dataframe thead th {\n",
       "        text-align: right;\n",
       "    }\n",
       "</style>\n",
       "<table border=\"1\" class=\"dataframe\">\n",
       "  <thead>\n",
       "    <tr style=\"text-align: right;\">\n",
       "      <th></th>\n",
       "      <th>electric_train.tm</th>\n",
       "      <th>electric_train.hh24</th>\n",
       "      <th>electric_train.weekday</th>\n",
       "      <th>electric_train.week_name</th>\n",
       "      <th>electric_train.sum_qctr</th>\n",
       "      <th>electric_train.n</th>\n",
       "      <th>electric_train.sum_load</th>\n",
       "      <th>electric_train.n_mean_load</th>\n",
       "      <th>electric_train.elec</th>\n",
       "    </tr>\n",
       "  </thead>\n",
       "  <tbody>\n",
       "    <tr>\n",
       "      <th>1</th>\n",
       "      <td>2021-01-01 01:00:00</td>\n",
       "      <td>1</td>\n",
       "      <td>4</td>\n",
       "      <td>0</td>\n",
       "      <td>6950</td>\n",
       "      <td>11</td>\n",
       "      <td>751.32</td>\n",
       "      <td>68.606449</td>\n",
       "      <td>99.56</td>\n",
       "    </tr>\n",
       "    <tr>\n",
       "      <th>2</th>\n",
       "      <td>2021-01-01 02:00:00</td>\n",
       "      <td>2</td>\n",
       "      <td>4</td>\n",
       "      <td>0</td>\n",
       "      <td>6950</td>\n",
       "      <td>11</td>\n",
       "      <td>692.60</td>\n",
       "      <td>68.606449</td>\n",
       "      <td>91.78</td>\n",
       "    </tr>\n",
       "    <tr>\n",
       "      <th>3</th>\n",
       "      <td>2021-01-01 03:00:00</td>\n",
       "      <td>3</td>\n",
       "      <td>4</td>\n",
       "      <td>0</td>\n",
       "      <td>6950</td>\n",
       "      <td>11</td>\n",
       "      <td>597.48</td>\n",
       "      <td>68.606449</td>\n",
       "      <td>79.17</td>\n",
       "    </tr>\n",
       "    <tr>\n",
       "      <th>4</th>\n",
       "      <td>2021-01-01 04:00:00</td>\n",
       "      <td>4</td>\n",
       "      <td>4</td>\n",
       "      <td>0</td>\n",
       "      <td>6950</td>\n",
       "      <td>11</td>\n",
       "      <td>553.48</td>\n",
       "      <td>68.606449</td>\n",
       "      <td>73.34</td>\n",
       "    </tr>\n",
       "    <tr>\n",
       "      <th>5</th>\n",
       "      <td>2021-01-01 05:00:00</td>\n",
       "      <td>5</td>\n",
       "      <td>4</td>\n",
       "      <td>0</td>\n",
       "      <td>6950</td>\n",
       "      <td>11</td>\n",
       "      <td>526.24</td>\n",
       "      <td>68.606449</td>\n",
       "      <td>69.73</td>\n",
       "    </tr>\n",
       "  </tbody>\n",
       "</table>\n",
       "</div>"
      ],
      "text/plain": [
       "    electric_train.tm  electric_train.hh24  electric_train.weekday  \\\n",
       "1 2021-01-01 01:00:00                    1                       4   \n",
       "2 2021-01-01 02:00:00                    2                       4   \n",
       "3 2021-01-01 03:00:00                    3                       4   \n",
       "4 2021-01-01 04:00:00                    4                       4   \n",
       "5 2021-01-01 05:00:00                    5                       4   \n",
       "\n",
       "   electric_train.week_name  electric_train.sum_qctr  electric_train.n  \\\n",
       "1                         0                     6950                11   \n",
       "2                         0                     6950                11   \n",
       "3                         0                     6950                11   \n",
       "4                         0                     6950                11   \n",
       "5                         0                     6950                11   \n",
       "\n",
       "   electric_train.sum_load  electric_train.n_mean_load  electric_train.elec  \n",
       "1                   751.32                   68.606449                99.56  \n",
       "2                   692.60                   68.606449                91.78  \n",
       "3                   597.48                   68.606449                79.17  \n",
       "4                   553.48                   68.606449                73.34  \n",
       "5                   526.24                   68.606449                69.73  "
      ]
     },
     "execution_count": 42,
     "metadata": {},
     "output_type": "execute_result"
    }
   ],
   "source": [
    "elec_cols = ['electric_train.'+ a for a in ['tm', 'hh24', 'weekday', 'week_name', 'sum_qctr', 'n', 'sum_load', 'n_mean_load', 'elec']]\n",
    "df_elec = df[elec_cols]\n",
    "df_elec.head()"
   ]
  },
  {
   "cell_type": "code",
   "execution_count": 43,
   "metadata": {},
   "outputs": [
    {
     "data": {
      "text/html": [
       "<div>\n",
       "<style scoped>\n",
       "    .dataframe tbody tr th:only-of-type {\n",
       "        vertical-align: middle;\n",
       "    }\n",
       "\n",
       "    .dataframe tbody tr th {\n",
       "        vertical-align: top;\n",
       "    }\n",
       "\n",
       "    .dataframe thead th {\n",
       "        text-align: right;\n",
       "    }\n",
       "</style>\n",
       "<table border=\"1\" class=\"dataframe\">\n",
       "  <thead>\n",
       "    <tr style=\"text-align: right;\">\n",
       "      <th></th>\n",
       "      <th>electric_train.num</th>\n",
       "      <th>electric_train.stn</th>\n",
       "      <th>electric_train.nph_ta</th>\n",
       "      <th>electric_train.nph_hm</th>\n",
       "      <th>electric_train.nph_ws_10m</th>\n",
       "      <th>electric_train.nph_rn_60m</th>\n",
       "      <th>electric_train.nph_ta_chi</th>\n",
       "    </tr>\n",
       "  </thead>\n",
       "  <tbody>\n",
       "    <tr>\n",
       "      <th>1</th>\n",
       "      <td>4821</td>\n",
       "      <td>884</td>\n",
       "      <td>2.2</td>\n",
       "      <td>62.7</td>\n",
       "      <td>1.8</td>\n",
       "      <td>0.0</td>\n",
       "      <td>-1.0</td>\n",
       "    </tr>\n",
       "    <tr>\n",
       "      <th>2</th>\n",
       "      <td>4821</td>\n",
       "      <td>884</td>\n",
       "      <td>2.3</td>\n",
       "      <td>63.1</td>\n",
       "      <td>2.1</td>\n",
       "      <td>0.0</td>\n",
       "      <td>-0.6</td>\n",
       "    </tr>\n",
       "    <tr>\n",
       "      <th>3</th>\n",
       "      <td>4821</td>\n",
       "      <td>884</td>\n",
       "      <td>2.2</td>\n",
       "      <td>62.4</td>\n",
       "      <td>2.5</td>\n",
       "      <td>0.0</td>\n",
       "      <td>-1.3</td>\n",
       "    </tr>\n",
       "    <tr>\n",
       "      <th>4</th>\n",
       "      <td>4821</td>\n",
       "      <td>884</td>\n",
       "      <td>1.7</td>\n",
       "      <td>63.5</td>\n",
       "      <td>1.7</td>\n",
       "      <td>0.0</td>\n",
       "      <td>-0.2</td>\n",
       "    </tr>\n",
       "    <tr>\n",
       "      <th>5</th>\n",
       "      <td>4821</td>\n",
       "      <td>884</td>\n",
       "      <td>1.7</td>\n",
       "      <td>63.0</td>\n",
       "      <td>1.6</td>\n",
       "      <td>0.0</td>\n",
       "      <td>-0.8</td>\n",
       "    </tr>\n",
       "  </tbody>\n",
       "</table>\n",
       "</div>"
      ],
      "text/plain": [
       "   electric_train.num  electric_train.stn  electric_train.nph_ta  \\\n",
       "1                4821                 884                    2.2   \n",
       "2                4821                 884                    2.3   \n",
       "3                4821                 884                    2.2   \n",
       "4                4821                 884                    1.7   \n",
       "5                4821                 884                    1.7   \n",
       "\n",
       "   electric_train.nph_hm  electric_train.nph_ws_10m  \\\n",
       "1                   62.7                        1.8   \n",
       "2                   63.1                        2.1   \n",
       "3                   62.4                        2.5   \n",
       "4                   63.5                        1.7   \n",
       "5                   63.0                        1.6   \n",
       "\n",
       "   electric_train.nph_rn_60m  electric_train.nph_ta_chi  \n",
       "1                        0.0                       -1.0  \n",
       "2                        0.0                       -0.6  \n",
       "3                        0.0                       -1.3  \n",
       "4                        0.0                       -0.2  \n",
       "5                        0.0                       -0.8  "
      ]
     },
     "execution_count": 43,
     "metadata": {},
     "output_type": "execute_result"
    }
   ],
   "source": [
    "weat_cols = ['electric_train.'+ a for a in ['num', 'stn', 'nph_ta', 'nph_hm', 'nph_ws_10m', 'nph_rn_60m', 'nph_ta_chi']]\n",
    "df_weat = df[weat_cols]\n",
    "df_weat.head()"
   ]
  },
  {
   "cell_type": "code",
   "execution_count": 44,
   "metadata": {},
   "outputs": [
    {
     "data": {
      "text/html": [
       "<div>\n",
       "<style scoped>\n",
       "    .dataframe tbody tr th:only-of-type {\n",
       "        vertical-align: middle;\n",
       "    }\n",
       "\n",
       "    .dataframe tbody tr th {\n",
       "        vertical-align: top;\n",
       "    }\n",
       "\n",
       "    .dataframe thead th {\n",
       "        text-align: right;\n",
       "    }\n",
       "</style>\n",
       "<table border=\"1\" class=\"dataframe\">\n",
       "  <thead>\n",
       "    <tr style=\"text-align: right;\">\n",
       "      <th></th>\n",
       "      <th>electric_train.tm</th>\n",
       "      <th>electric_train.hh24</th>\n",
       "      <th>electric_train.weekday</th>\n",
       "      <th>electric_train.week_name</th>\n",
       "      <th>electric_train.sum_qctr</th>\n",
       "      <th>electric_train.n</th>\n",
       "      <th>electric_train.sum_load</th>\n",
       "      <th>electric_train.n_mean_load</th>\n",
       "      <th>electric_train.elec</th>\n",
       "      <th>electric_train.num</th>\n",
       "      <th>electric_train.stn</th>\n",
       "      <th>electric_train.nph_ta</th>\n",
       "      <th>electric_train.nph_hm</th>\n",
       "      <th>electric_train.nph_ws_10m</th>\n",
       "      <th>electric_train.nph_rn_60m</th>\n",
       "      <th>electric_train.nph_ta_chi</th>\n",
       "    </tr>\n",
       "  </thead>\n",
       "  <tbody>\n",
       "    <tr>\n",
       "      <th>1</th>\n",
       "      <td>2021-01-01 01:00:00</td>\n",
       "      <td>1</td>\n",
       "      <td>4</td>\n",
       "      <td>0</td>\n",
       "      <td>6950</td>\n",
       "      <td>11</td>\n",
       "      <td>751.32</td>\n",
       "      <td>68.606449</td>\n",
       "      <td>99.56</td>\n",
       "      <td>4821</td>\n",
       "      <td>884</td>\n",
       "      <td>2.2</td>\n",
       "      <td>62.7</td>\n",
       "      <td>1.8</td>\n",
       "      <td>0.0</td>\n",
       "      <td>-1.0</td>\n",
       "    </tr>\n",
       "    <tr>\n",
       "      <th>2</th>\n",
       "      <td>2021-01-01 02:00:00</td>\n",
       "      <td>2</td>\n",
       "      <td>4</td>\n",
       "      <td>0</td>\n",
       "      <td>6950</td>\n",
       "      <td>11</td>\n",
       "      <td>692.60</td>\n",
       "      <td>68.606449</td>\n",
       "      <td>91.78</td>\n",
       "      <td>4821</td>\n",
       "      <td>884</td>\n",
       "      <td>2.3</td>\n",
       "      <td>63.1</td>\n",
       "      <td>2.1</td>\n",
       "      <td>0.0</td>\n",
       "      <td>-0.6</td>\n",
       "    </tr>\n",
       "    <tr>\n",
       "      <th>3</th>\n",
       "      <td>2021-01-01 03:00:00</td>\n",
       "      <td>3</td>\n",
       "      <td>4</td>\n",
       "      <td>0</td>\n",
       "      <td>6950</td>\n",
       "      <td>11</td>\n",
       "      <td>597.48</td>\n",
       "      <td>68.606449</td>\n",
       "      <td>79.17</td>\n",
       "      <td>4821</td>\n",
       "      <td>884</td>\n",
       "      <td>2.2</td>\n",
       "      <td>62.4</td>\n",
       "      <td>2.5</td>\n",
       "      <td>0.0</td>\n",
       "      <td>-1.3</td>\n",
       "    </tr>\n",
       "    <tr>\n",
       "      <th>4</th>\n",
       "      <td>2021-01-01 04:00:00</td>\n",
       "      <td>4</td>\n",
       "      <td>4</td>\n",
       "      <td>0</td>\n",
       "      <td>6950</td>\n",
       "      <td>11</td>\n",
       "      <td>553.48</td>\n",
       "      <td>68.606449</td>\n",
       "      <td>73.34</td>\n",
       "      <td>4821</td>\n",
       "      <td>884</td>\n",
       "      <td>1.7</td>\n",
       "      <td>63.5</td>\n",
       "      <td>1.7</td>\n",
       "      <td>0.0</td>\n",
       "      <td>-0.2</td>\n",
       "    </tr>\n",
       "    <tr>\n",
       "      <th>5</th>\n",
       "      <td>2021-01-01 05:00:00</td>\n",
       "      <td>5</td>\n",
       "      <td>4</td>\n",
       "      <td>0</td>\n",
       "      <td>6950</td>\n",
       "      <td>11</td>\n",
       "      <td>526.24</td>\n",
       "      <td>68.606449</td>\n",
       "      <td>69.73</td>\n",
       "      <td>4821</td>\n",
       "      <td>884</td>\n",
       "      <td>1.7</td>\n",
       "      <td>63.0</td>\n",
       "      <td>1.6</td>\n",
       "      <td>0.0</td>\n",
       "      <td>-0.8</td>\n",
       "    </tr>\n",
       "  </tbody>\n",
       "</table>\n",
       "</div>"
      ],
      "text/plain": [
       "    electric_train.tm  electric_train.hh24  electric_train.weekday  \\\n",
       "1 2021-01-01 01:00:00                    1                       4   \n",
       "2 2021-01-01 02:00:00                    2                       4   \n",
       "3 2021-01-01 03:00:00                    3                       4   \n",
       "4 2021-01-01 04:00:00                    4                       4   \n",
       "5 2021-01-01 05:00:00                    5                       4   \n",
       "\n",
       "   electric_train.week_name  electric_train.sum_qctr  electric_train.n  \\\n",
       "1                         0                     6950                11   \n",
       "2                         0                     6950                11   \n",
       "3                         0                     6950                11   \n",
       "4                         0                     6950                11   \n",
       "5                         0                     6950                11   \n",
       "\n",
       "   electric_train.sum_load  electric_train.n_mean_load  electric_train.elec  \\\n",
       "1                   751.32                   68.606449                99.56   \n",
       "2                   692.60                   68.606449                91.78   \n",
       "3                   597.48                   68.606449                79.17   \n",
       "4                   553.48                   68.606449                73.34   \n",
       "5                   526.24                   68.606449                69.73   \n",
       "\n",
       "   electric_train.num  electric_train.stn  electric_train.nph_ta  \\\n",
       "1                4821                 884                    2.2   \n",
       "2                4821                 884                    2.3   \n",
       "3                4821                 884                    2.2   \n",
       "4                4821                 884                    1.7   \n",
       "5                4821                 884                    1.7   \n",
       "\n",
       "   electric_train.nph_hm  electric_train.nph_ws_10m  \\\n",
       "1                   62.7                        1.8   \n",
       "2                   63.1                        2.1   \n",
       "3                   62.4                        2.5   \n",
       "4                   63.5                        1.7   \n",
       "5                   63.0                        1.6   \n",
       "\n",
       "   electric_train.nph_rn_60m  electric_train.nph_ta_chi  \n",
       "1                        0.0                       -1.0  \n",
       "2                        0.0                       -0.6  \n",
       "3                        0.0                       -1.3  \n",
       "4                        0.0                       -0.2  \n",
       "5                        0.0                       -0.8  "
      ]
     },
     "execution_count": 44,
     "metadata": {},
     "output_type": "execute_result"
    }
   ],
   "source": [
    "reset_order_cols = elec_cols + weat_cols\n",
    "\n",
    "df_new = df[reset_order_cols]\n",
    "\n",
    "df_new.head()"
   ]
  },
  {
   "cell_type": "code",
   "execution_count": 45,
   "metadata": {},
   "outputs": [
    {
     "data": {
      "text/html": [
       "<div>\n",
       "<style scoped>\n",
       "    .dataframe tbody tr th:only-of-type {\n",
       "        vertical-align: middle;\n",
       "    }\n",
       "\n",
       "    .dataframe tbody tr th {\n",
       "        vertical-align: top;\n",
       "    }\n",
       "\n",
       "    .dataframe thead th {\n",
       "        text-align: right;\n",
       "    }\n",
       "</style>\n",
       "<table border=\"1\" class=\"dataframe\">\n",
       "  <thead>\n",
       "    <tr style=\"text-align: right;\">\n",
       "      <th></th>\n",
       "      <th>electric_train.tm</th>\n",
       "      <th>electric_train.hh24</th>\n",
       "      <th>electric_train.weekday</th>\n",
       "      <th>electric_train.week_name</th>\n",
       "      <th>electric_train.sum_qctr</th>\n",
       "      <th>electric_train.n</th>\n",
       "      <th>electric_train.sum_load</th>\n",
       "      <th>electric_train.n_mean_load</th>\n",
       "      <th>electric_train.elec</th>\n",
       "      <th>electric_train.num</th>\n",
       "      <th>electric_train.stn</th>\n",
       "      <th>electric_train.nph_ta</th>\n",
       "      <th>electric_train.nph_hm</th>\n",
       "      <th>electric_train.nph_ws_10m</th>\n",
       "      <th>electric_train.nph_rn_60m</th>\n",
       "      <th>electric_train.nph_ta_chi</th>\n",
       "    </tr>\n",
       "  </thead>\n",
       "  <tbody>\n",
       "    <tr>\n",
       "      <th>2647991</th>\n",
       "      <td>2020-01-01 01:00:00</td>\n",
       "      <td>1</td>\n",
       "      <td>2</td>\n",
       "      <td>0</td>\n",
       "      <td>63850</td>\n",
       "      <td>39</td>\n",
       "      <td>9732.96</td>\n",
       "      <td>250.490543</td>\n",
       "      <td>99.63</td>\n",
       "      <td>13615</td>\n",
       "      <td>140</td>\n",
       "      <td>-8.5</td>\n",
       "      <td>74.5</td>\n",
       "      <td>0.9</td>\n",
       "      <td>0.0</td>\n",
       "      <td>-5.8</td>\n",
       "    </tr>\n",
       "    <tr>\n",
       "      <th>5208382</th>\n",
       "      <td>2020-01-01 01:00:00</td>\n",
       "      <td>1</td>\n",
       "      <td>2</td>\n",
       "      <td>0</td>\n",
       "      <td>14750</td>\n",
       "      <td>20</td>\n",
       "      <td>2401.12</td>\n",
       "      <td>116.010234</td>\n",
       "      <td>103.49</td>\n",
       "      <td>18235</td>\n",
       "      <td>565</td>\n",
       "      <td>-8.8</td>\n",
       "      <td>25.6</td>\n",
       "      <td>1.9</td>\n",
       "      <td>0.0</td>\n",
       "      <td>-4.6</td>\n",
       "    </tr>\n",
       "    <tr>\n",
       "      <th>5182078</th>\n",
       "      <td>2020-01-01 01:00:00</td>\n",
       "      <td>1</td>\n",
       "      <td>2</td>\n",
       "      <td>0</td>\n",
       "      <td>71630</td>\n",
       "      <td>32</td>\n",
       "      <td>12139.16</td>\n",
       "      <td>363.252769</td>\n",
       "      <td>104.43</td>\n",
       "      <td>18234</td>\n",
       "      <td>565</td>\n",
       "      <td>-8.8</td>\n",
       "      <td>25.6</td>\n",
       "      <td>1.9</td>\n",
       "      <td>0.0</td>\n",
       "      <td>-4.6</td>\n",
       "    </tr>\n",
       "    <tr>\n",
       "      <th>5155774</th>\n",
       "      <td>2020-01-01 01:00:00</td>\n",
       "      <td>1</td>\n",
       "      <td>2</td>\n",
       "      <td>0</td>\n",
       "      <td>45840</td>\n",
       "      <td>28</td>\n",
       "      <td>6723.84</td>\n",
       "      <td>225.924357</td>\n",
       "      <td>106.29</td>\n",
       "      <td>18233</td>\n",
       "      <td>512</td>\n",
       "      <td>-6.3</td>\n",
       "      <td>31.3</td>\n",
       "      <td>2.5</td>\n",
       "      <td>0.0</td>\n",
       "      <td>-7.8</td>\n",
       "    </tr>\n",
       "    <tr>\n",
       "      <th>1280137</th>\n",
       "      <td>2020-01-01 01:00:00</td>\n",
       "      <td>1</td>\n",
       "      <td>2</td>\n",
       "      <td>0</td>\n",
       "      <td>76450</td>\n",
       "      <td>44</td>\n",
       "      <td>12949.24</td>\n",
       "      <td>287.250770</td>\n",
       "      <td>102.45</td>\n",
       "      <td>11272</td>\n",
       "      <td>941</td>\n",
       "      <td>2.4</td>\n",
       "      <td>68.0</td>\n",
       "      <td>1.2</td>\n",
       "      <td>0.0</td>\n",
       "      <td>-5.3</td>\n",
       "    </tr>\n",
       "  </tbody>\n",
       "</table>\n",
       "</div>"
      ],
      "text/plain": [
       "          electric_train.tm  electric_train.hh24  electric_train.weekday  \\\n",
       "2647991 2020-01-01 01:00:00                    1                       2   \n",
       "5208382 2020-01-01 01:00:00                    1                       2   \n",
       "5182078 2020-01-01 01:00:00                    1                       2   \n",
       "5155774 2020-01-01 01:00:00                    1                       2   \n",
       "1280137 2020-01-01 01:00:00                    1                       2   \n",
       "\n",
       "         electric_train.week_name  electric_train.sum_qctr  electric_train.n  \\\n",
       "2647991                         0                    63850                39   \n",
       "5208382                         0                    14750                20   \n",
       "5182078                         0                    71630                32   \n",
       "5155774                         0                    45840                28   \n",
       "1280137                         0                    76450                44   \n",
       "\n",
       "         electric_train.sum_load  electric_train.n_mean_load  \\\n",
       "2647991                  9732.96                  250.490543   \n",
       "5208382                  2401.12                  116.010234   \n",
       "5182078                 12139.16                  363.252769   \n",
       "5155774                  6723.84                  225.924357   \n",
       "1280137                 12949.24                  287.250770   \n",
       "\n",
       "         electric_train.elec  electric_train.num  electric_train.stn  \\\n",
       "2647991                99.63               13615                 140   \n",
       "5208382               103.49               18235                 565   \n",
       "5182078               104.43               18234                 565   \n",
       "5155774               106.29               18233                 512   \n",
       "1280137               102.45               11272                 941   \n",
       "\n",
       "         electric_train.nph_ta  electric_train.nph_hm  \\\n",
       "2647991                   -8.5                   74.5   \n",
       "5208382                   -8.8                   25.6   \n",
       "5182078                   -8.8                   25.6   \n",
       "5155774                   -6.3                   31.3   \n",
       "1280137                    2.4                   68.0   \n",
       "\n",
       "         electric_train.nph_ws_10m  electric_train.nph_rn_60m  \\\n",
       "2647991                        0.9                        0.0   \n",
       "5208382                        1.9                        0.0   \n",
       "5182078                        1.9                        0.0   \n",
       "5155774                        2.5                        0.0   \n",
       "1280137                        1.2                        0.0   \n",
       "\n",
       "         electric_train.nph_ta_chi  \n",
       "2647991                       -5.8  \n",
       "5208382                       -4.6  \n",
       "5182078                       -4.6  \n",
       "5155774                       -7.8  \n",
       "1280137                       -5.3  "
      ]
     },
     "execution_count": 45,
     "metadata": {},
     "output_type": "execute_result"
    }
   ],
   "source": [
    "df_new = df_new.sort_values(by='electric_train.tm')\n",
    "df_new.head()"
   ]
  },
  {
   "cell_type": "code",
   "execution_count": 46,
   "metadata": {},
   "outputs": [
    {
     "data": {
      "text/plain": [
       "[98, 99, 101, 104, 106, 108, 112, 114, 119, 127]"
      ]
     },
     "execution_count": 46,
     "metadata": {},
     "output_type": "execute_result"
    }
   ],
   "source": [
    "aws_spots = sorted(df_new['electric_train.stn'].unique().tolist())\n",
    "aws_spots[:10]"
   ]
  },
  {
   "cell_type": "code",
   "execution_count": 47,
   "metadata": {},
   "outputs": [
    {
     "name": "stdout",
     "output_type": "stream",
     "text": [
      "185\n"
     ]
    }
   ],
   "source": [
    "print(len(aws_spots))"
   ]
  },
  {
   "cell_type": "markdown",
   "metadata": {},
   "source": [
    "### 지역을 먼저 나눠보자 "
   ]
  },
  {
   "cell_type": "code",
   "execution_count": 48,
   "metadata": {},
   "outputs": [
    {
     "data": {
      "text/plain": [
       "electric_train.num\n",
       "13615    26304\n",
       "18533    26304\n",
       "18684    26304\n",
       "18537    26304\n",
       "18530    26304\n",
       "         ...  \n",
       "13648     8760\n",
       "15849     8760\n",
       "14258     8760\n",
       "14378     8760\n",
       "13360     8760\n",
       "Name: count, Length: 323, dtype: int64"
      ]
     },
     "execution_count": 48,
     "metadata": {},
     "output_type": "execute_result"
    }
   ],
   "source": [
    "df_new['electric_train.num'].value_counts()\n",
    "# 8760개씩 또는 26304씩 데이터가 들어있음 "
   ]
  },
  {
   "cell_type": "code",
   "execution_count": 49,
   "metadata": {},
   "outputs": [
    {
     "name": "stdout",
     "output_type": "stream",
     "text": [
      "323\n"
     ]
    },
    {
     "data": {
      "text/plain": [
       "[4821, 5565, 5566, 5567, 8994, 9609, 9735, 9736, 9758, 9759]"
      ]
     },
     "execution_count": 49,
     "metadata": {},
     "output_type": "execute_result"
    }
   ],
   "source": [
    "spots_num = sorted(df_new['electric_train.num'].unique().tolist())\n",
    "print(len(spots_num))\n",
    "spots_num[:10]"
   ]
  },
  {
   "cell_type": "code",
   "execution_count": 66,
   "metadata": {},
   "outputs": [],
   "source": [
    "df_0 = df_new[df_new['electric_train.num']==spots_num[0]]"
   ]
  },
  {
   "cell_type": "code",
   "execution_count": 52,
   "metadata": {},
   "outputs": [
    {
     "data": {
      "text/html": [
       "<div>\n",
       "<style scoped>\n",
       "    .dataframe tbody tr th:only-of-type {\n",
       "        vertical-align: middle;\n",
       "    }\n",
       "\n",
       "    .dataframe tbody tr th {\n",
       "        vertical-align: top;\n",
       "    }\n",
       "\n",
       "    .dataframe thead th {\n",
       "        text-align: right;\n",
       "    }\n",
       "</style>\n",
       "<table border=\"1\" class=\"dataframe\">\n",
       "  <thead>\n",
       "    <tr style=\"text-align: right;\">\n",
       "      <th></th>\n",
       "      <th>electric_train.tm</th>\n",
       "      <th>electric_train.hh24</th>\n",
       "      <th>electric_train.weekday</th>\n",
       "      <th>electric_train.week_name</th>\n",
       "      <th>electric_train.sum_qctr</th>\n",
       "      <th>electric_train.n</th>\n",
       "      <th>electric_train.sum_load</th>\n",
       "      <th>electric_train.n_mean_load</th>\n",
       "      <th>electric_train.elec</th>\n",
       "      <th>electric_train.num</th>\n",
       "      <th>electric_train.stn</th>\n",
       "      <th>electric_train.nph_ta</th>\n",
       "      <th>electric_train.nph_hm</th>\n",
       "      <th>electric_train.nph_ws_10m</th>\n",
       "      <th>electric_train.nph_rn_60m</th>\n",
       "      <th>electric_train.nph_ta_chi</th>\n",
       "    </tr>\n",
       "  </thead>\n",
       "  <tbody>\n",
       "    <tr>\n",
       "      <th>1</th>\n",
       "      <td>2021-01-01 01:00:00</td>\n",
       "      <td>1</td>\n",
       "      <td>4</td>\n",
       "      <td>0</td>\n",
       "      <td>6950</td>\n",
       "      <td>11</td>\n",
       "      <td>751.32</td>\n",
       "      <td>68.606449</td>\n",
       "      <td>99.56</td>\n",
       "      <td>4821</td>\n",
       "      <td>884</td>\n",
       "      <td>2.2</td>\n",
       "      <td>62.7</td>\n",
       "      <td>1.8</td>\n",
       "      <td>0.0</td>\n",
       "      <td>-1.0</td>\n",
       "    </tr>\n",
       "    <tr>\n",
       "      <th>2</th>\n",
       "      <td>2021-01-01 02:00:00</td>\n",
       "      <td>2</td>\n",
       "      <td>4</td>\n",
       "      <td>0</td>\n",
       "      <td>6950</td>\n",
       "      <td>11</td>\n",
       "      <td>692.60</td>\n",
       "      <td>68.606449</td>\n",
       "      <td>91.78</td>\n",
       "      <td>4821</td>\n",
       "      <td>884</td>\n",
       "      <td>2.3</td>\n",
       "      <td>63.1</td>\n",
       "      <td>2.1</td>\n",
       "      <td>0.0</td>\n",
       "      <td>-0.6</td>\n",
       "    </tr>\n",
       "    <tr>\n",
       "      <th>3</th>\n",
       "      <td>2021-01-01 03:00:00</td>\n",
       "      <td>3</td>\n",
       "      <td>4</td>\n",
       "      <td>0</td>\n",
       "      <td>6950</td>\n",
       "      <td>11</td>\n",
       "      <td>597.48</td>\n",
       "      <td>68.606449</td>\n",
       "      <td>79.17</td>\n",
       "      <td>4821</td>\n",
       "      <td>884</td>\n",
       "      <td>2.2</td>\n",
       "      <td>62.4</td>\n",
       "      <td>2.5</td>\n",
       "      <td>0.0</td>\n",
       "      <td>-1.3</td>\n",
       "    </tr>\n",
       "    <tr>\n",
       "      <th>4</th>\n",
       "      <td>2021-01-01 04:00:00</td>\n",
       "      <td>4</td>\n",
       "      <td>4</td>\n",
       "      <td>0</td>\n",
       "      <td>6950</td>\n",
       "      <td>11</td>\n",
       "      <td>553.48</td>\n",
       "      <td>68.606449</td>\n",
       "      <td>73.34</td>\n",
       "      <td>4821</td>\n",
       "      <td>884</td>\n",
       "      <td>1.7</td>\n",
       "      <td>63.5</td>\n",
       "      <td>1.7</td>\n",
       "      <td>0.0</td>\n",
       "      <td>-0.2</td>\n",
       "    </tr>\n",
       "    <tr>\n",
       "      <th>5</th>\n",
       "      <td>2021-01-01 05:00:00</td>\n",
       "      <td>5</td>\n",
       "      <td>4</td>\n",
       "      <td>0</td>\n",
       "      <td>6950</td>\n",
       "      <td>11</td>\n",
       "      <td>526.24</td>\n",
       "      <td>68.606449</td>\n",
       "      <td>69.73</td>\n",
       "      <td>4821</td>\n",
       "      <td>884</td>\n",
       "      <td>1.7</td>\n",
       "      <td>63.0</td>\n",
       "      <td>1.6</td>\n",
       "      <td>0.0</td>\n",
       "      <td>-0.8</td>\n",
       "    </tr>\n",
       "  </tbody>\n",
       "</table>\n",
       "</div>"
      ],
      "text/plain": [
       "    electric_train.tm  electric_train.hh24  electric_train.weekday  \\\n",
       "1 2021-01-01 01:00:00                    1                       4   \n",
       "2 2021-01-01 02:00:00                    2                       4   \n",
       "3 2021-01-01 03:00:00                    3                       4   \n",
       "4 2021-01-01 04:00:00                    4                       4   \n",
       "5 2021-01-01 05:00:00                    5                       4   \n",
       "\n",
       "   electric_train.week_name  electric_train.sum_qctr  electric_train.n  \\\n",
       "1                         0                     6950                11   \n",
       "2                         0                     6950                11   \n",
       "3                         0                     6950                11   \n",
       "4                         0                     6950                11   \n",
       "5                         0                     6950                11   \n",
       "\n",
       "   electric_train.sum_load  electric_train.n_mean_load  electric_train.elec  \\\n",
       "1                   751.32                   68.606449                99.56   \n",
       "2                   692.60                   68.606449                91.78   \n",
       "3                   597.48                   68.606449                79.17   \n",
       "4                   553.48                   68.606449                73.34   \n",
       "5                   526.24                   68.606449                69.73   \n",
       "\n",
       "   electric_train.num  electric_train.stn  electric_train.nph_ta  \\\n",
       "1                4821                 884                    2.2   \n",
       "2                4821                 884                    2.3   \n",
       "3                4821                 884                    2.2   \n",
       "4                4821                 884                    1.7   \n",
       "5                4821                 884                    1.7   \n",
       "\n",
       "   electric_train.nph_hm  electric_train.nph_ws_10m  \\\n",
       "1                   62.7                        1.8   \n",
       "2                   63.1                        2.1   \n",
       "3                   62.4                        2.5   \n",
       "4                   63.5                        1.7   \n",
       "5                   63.0                        1.6   \n",
       "\n",
       "   electric_train.nph_rn_60m  electric_train.nph_ta_chi  \n",
       "1                        0.0                       -1.0  \n",
       "2                        0.0                       -0.6  \n",
       "3                        0.0                       -1.3  \n",
       "4                        0.0                       -0.2  \n",
       "5                        0.0                       -0.8  "
      ]
     },
     "execution_count": 52,
     "metadata": {},
     "output_type": "execute_result"
    }
   ],
   "source": [
    "# 2020년 데이터가 없다\n",
    "df_0.head()"
   ]
  },
  {
   "cell_type": "code",
   "execution_count": 56,
   "metadata": {},
   "outputs": [
    {
     "data": {
      "image/png": "[encoded data removed]",
      "text/plain": [
       "<Figure size 2000x800 with 1 Axes>"
      ]
     },
     "metadata": {},
     "output_type": "display_data"
    }
   ],
   "source": [
    "plt.figure(figsize = (20,8))\n",
    "plt.plot('electric_train.tm', 'electric_train.sum_qctr', data = df_0)\n",
    "plt.grid()\n",
    "plt.show()"
   ]
  },
  {
   "cell_type": "code",
   "execution_count": 59,
   "metadata": {},
   "outputs": [
    {
     "data": {
      "text/plain": [
       "(Timestamp('2020-01-01 01:00:00'), Timestamp('2023-01-01 00:00:00'))"
      ]
     },
     "execution_count": 59,
     "metadata": {},
     "output_type": "execute_result"
    }
   ],
   "source": [
    "df_1 = df_new[df_new['electric_train.num']==spots_num[1]]\n",
    "\n",
    "df_1['electric_train.tm'].min(), df_1['electric_train.tm'].max()"
   ]
  },
  {
   "cell_type": "code",
   "execution_count": 67,
   "metadata": {},
   "outputs": [
    {
     "data": {
      "text/plain": [
       "(Timestamp('2021-01-01 01:00:00'), Timestamp('2022-01-01 00:00:00'))"
      ]
     },
     "execution_count": 67,
     "metadata": {},
     "output_type": "execute_result"
    }
   ],
   "source": [
    "df_0['electric_train.tm'].min(), df_0['electric_train.tm'].max()"
   ]
  },
  {
   "cell_type": "code",
   "execution_count": 63,
   "metadata": {},
   "outputs": [
    {
     "data": {
      "text/plain": [
       "'2020-01-01 01:00:00'"
      ]
     },
     "execution_count": 63,
     "metadata": {},
     "output_type": "execute_result"
    }
   ],
   "source": [
    "str(df_1['electric_train.tm'].min())"
   ]
  },
  {
   "cell_type": "code",
   "execution_count": 69,
   "metadata": {},
   "outputs": [
    {
     "data": {
      "text/plain": [
       "'2020-01-01 01:00:00'"
      ]
     },
     "execution_count": 69,
     "metadata": {},
     "output_type": "execute_result"
    }
   ],
   "source": [
    "str(df_1['electric_train.tm'].min())"
   ]
  },
  {
   "cell_type": "code",
   "execution_count": 71,
   "metadata": {},
   "outputs": [
    {
     "data": {
      "text/plain": [
       "Timestamp('2021-01-01 01:00:00')"
      ]
     },
     "execution_count": 71,
     "metadata": {},
     "output_type": "execute_result"
    }
   ],
   "source": [
    "df_new[df_new['electric_train.num']==spots_num[0]]['electric_train.tm'].min()"
   ]
  },
  {
   "cell_type": "code",
   "execution_count": 73,
   "metadata": {},
   "outputs": [
    {
     "name": "stdout",
     "output_type": "stream",
     "text": [
      "23\n",
      "300\n"
     ]
    }
   ],
   "source": [
    "no_2020 = []\n",
    "yes_2020 = []\n",
    "for i in range(len(spots_num)):\n",
    "    a = str(df_new[df_new['electric_train.num']==spots_num[i]]['electric_train.tm'].min())\n",
    "    b = str(df_1['electric_train.tm'].min())\n",
    "\n",
    "    if a != b:\n",
    "        no_2020.append(spots_num[i])\n",
    "    else:\n",
    "        yes_2020.append(spots_num[i])\n",
    "        \n",
    "print(len(no_2020))  # 2020년도 데이터가 없는 격자 지역 개수 \n",
    "print(len(yes_2020)) # 2020년도 데이터가 있는 격자 지역 개수 "
   ]
  },
  {
   "cell_type": "code",
   "execution_count": 75,
   "metadata": {},
   "outputs": [
    {
     "name": "stdout",
     "output_type": "stream",
     "text": [
      "[4821, 8994, 9609, 10224, 10975, 10976, 11119, 11271, 11376, 11562, 12322, 12467, 12618, 12619, 13202, 13360, 13648, 14258, 14378, 15849, 16900, 16913, 18828]\n"
     ]
    }
   ],
   "source": [
    "print(no_2020)"
   ]
  },
  {
   "cell_type": "code",
   "execution_count": null,
   "metadata": {},
   "outputs": [],
   "source": []
  }
 ],
 "metadata": {
  "kernelspec": {
   "display_name": "contest",
   "language": "python",
   "name": "python3"
  },
  "language_info": {
   "codemirror_mode": {
    "name": "ipython",
    "version": 3
   },
   "file_extension": ".py",
   "mimetype": "text/x-python",
   "name": "python",
   "nbconvert_exporter": "python",
   "pygments_lexer": "ipython3",
   "version": "3.11.9"
  }
 },
 "nbformat": 4,
 "nbformat_minor": 2
}

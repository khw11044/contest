{
 "cells": [
  {
   "cell_type": "code",
   "execution_count": 24,
   "metadata": {},
   "outputs": [],
   "source": [
    "import pandas as pd\n",
    "import os \n",
    "\n",
    "import matplotlib.pyplot as plt\n",
    "plt.rcParams['font.family'] ='Malgun Gothic'\n",
    "plt.rcParams['axes.unicode_minus'] =False\n",
    "\n",
    "import seaborn as sns\n",
    "import numpy as np\n",
    "\n",
    "import warnings\n",
    "warnings.filterwarnings(action='ignore')"
   ]
  },
  {
   "cell_type": "code",
   "execution_count": 25,
   "metadata": {},
   "outputs": [
    {
     "name": "stdout",
     "output_type": "stream",
     "text": [
      "(7593355, 16)\n"
     ]
    }
   ],
   "source": [
    "database = pd.read_csv('./data/electric_train_cp949.csv', encoding='cp949', index_col=0)\n",
    "database['electric_train.tm'] = pd.to_datetime(database['electric_train.tm'])\n",
    "\n",
    "print(database.shape)"
   ]
  },
  {
   "cell_type": "code",
   "execution_count": 26,
   "metadata": {},
   "outputs": [
    {
     "data": {
      "text/html": [
       "<div>\n",
       "<style scoped>\n",
       "    .dataframe tbody tr th:only-of-type {\n",
       "        vertical-align: middle;\n",
       "    }\n",
       "\n",
       "    .dataframe tbody tr th {\n",
       "        vertical-align: top;\n",
       "    }\n",
       "\n",
       "    .dataframe thead th {\n",
       "        text-align: right;\n",
       "    }\n",
       "</style>\n",
       "<table border=\"1\" class=\"dataframe\">\n",
       "  <thead>\n",
       "    <tr style=\"text-align: right;\">\n",
       "      <th></th>\n",
       "      <th>tm</th>\n",
       "      <th>hh24</th>\n",
       "      <th>weekday</th>\n",
       "      <th>week_name</th>\n",
       "      <th>sum_qctr</th>\n",
       "      <th>n</th>\n",
       "      <th>sum_load</th>\n",
       "      <th>n_mean_load</th>\n",
       "      <th>elec</th>\n",
       "      <th>num</th>\n",
       "      <th>stn</th>\n",
       "      <th>nph_ta</th>\n",
       "      <th>nph_hm</th>\n",
       "      <th>nph_ws_10m</th>\n",
       "      <th>nph_rn_60m</th>\n",
       "      <th>nph_ta_chi</th>\n",
       "      <th>year</th>\n",
       "      <th>month</th>\n",
       "      <th>day</th>\n",
       "      <th>season</th>\n",
       "    </tr>\n",
       "  </thead>\n",
       "  <tbody>\n",
       "    <tr>\n",
       "      <th>2647991</th>\n",
       "      <td>2020-01-01 01:00:00</td>\n",
       "      <td>1</td>\n",
       "      <td>2</td>\n",
       "      <td>0</td>\n",
       "      <td>63850</td>\n",
       "      <td>39</td>\n",
       "      <td>9732.96</td>\n",
       "      <td>250.490543</td>\n",
       "      <td>99.63</td>\n",
       "      <td>13615</td>\n",
       "      <td>140</td>\n",
       "      <td>-8.5</td>\n",
       "      <td>74.5</td>\n",
       "      <td>0.9</td>\n",
       "      <td>0.0</td>\n",
       "      <td>-5.8</td>\n",
       "      <td>2020</td>\n",
       "      <td>1</td>\n",
       "      <td>1</td>\n",
       "      <td>Winter</td>\n",
       "    </tr>\n",
       "    <tr>\n",
       "      <th>5208382</th>\n",
       "      <td>2020-01-01 01:00:00</td>\n",
       "      <td>1</td>\n",
       "      <td>2</td>\n",
       "      <td>0</td>\n",
       "      <td>14750</td>\n",
       "      <td>20</td>\n",
       "      <td>2401.12</td>\n",
       "      <td>116.010234</td>\n",
       "      <td>103.49</td>\n",
       "      <td>18235</td>\n",
       "      <td>565</td>\n",
       "      <td>-8.8</td>\n",
       "      <td>25.6</td>\n",
       "      <td>1.9</td>\n",
       "      <td>0.0</td>\n",
       "      <td>-4.6</td>\n",
       "      <td>2020</td>\n",
       "      <td>1</td>\n",
       "      <td>1</td>\n",
       "      <td>Winter</td>\n",
       "    </tr>\n",
       "    <tr>\n",
       "      <th>5182078</th>\n",
       "      <td>2020-01-01 01:00:00</td>\n",
       "      <td>1</td>\n",
       "      <td>2</td>\n",
       "      <td>0</td>\n",
       "      <td>71630</td>\n",
       "      <td>32</td>\n",
       "      <td>12139.16</td>\n",
       "      <td>363.252769</td>\n",
       "      <td>104.43</td>\n",
       "      <td>18234</td>\n",
       "      <td>565</td>\n",
       "      <td>-8.8</td>\n",
       "      <td>25.6</td>\n",
       "      <td>1.9</td>\n",
       "      <td>0.0</td>\n",
       "      <td>-4.6</td>\n",
       "      <td>2020</td>\n",
       "      <td>1</td>\n",
       "      <td>1</td>\n",
       "      <td>Winter</td>\n",
       "    </tr>\n",
       "    <tr>\n",
       "      <th>5155774</th>\n",
       "      <td>2020-01-01 01:00:00</td>\n",
       "      <td>1</td>\n",
       "      <td>2</td>\n",
       "      <td>0</td>\n",
       "      <td>45840</td>\n",
       "      <td>28</td>\n",
       "      <td>6723.84</td>\n",
       "      <td>225.924357</td>\n",
       "      <td>106.29</td>\n",
       "      <td>18233</td>\n",
       "      <td>512</td>\n",
       "      <td>-6.3</td>\n",
       "      <td>31.3</td>\n",
       "      <td>2.5</td>\n",
       "      <td>0.0</td>\n",
       "      <td>-7.8</td>\n",
       "      <td>2020</td>\n",
       "      <td>1</td>\n",
       "      <td>1</td>\n",
       "      <td>Winter</td>\n",
       "    </tr>\n",
       "    <tr>\n",
       "      <th>1280137</th>\n",
       "      <td>2020-01-01 01:00:00</td>\n",
       "      <td>1</td>\n",
       "      <td>2</td>\n",
       "      <td>0</td>\n",
       "      <td>76450</td>\n",
       "      <td>44</td>\n",
       "      <td>12949.24</td>\n",
       "      <td>287.250770</td>\n",
       "      <td>102.45</td>\n",
       "      <td>11272</td>\n",
       "      <td>941</td>\n",
       "      <td>2.4</td>\n",
       "      <td>68.0</td>\n",
       "      <td>1.2</td>\n",
       "      <td>0.0</td>\n",
       "      <td>-5.3</td>\n",
       "      <td>2020</td>\n",
       "      <td>1</td>\n",
       "      <td>1</td>\n",
       "      <td>Winter</td>\n",
       "    </tr>\n",
       "  </tbody>\n",
       "</table>\n",
       "</div>"
      ],
      "text/plain": [
       "                         tm  hh24  weekday  week_name  sum_qctr   n  sum_load  \\\n",
       "2647991 2020-01-01 01:00:00     1        2          0     63850  39   9732.96   \n",
       "5208382 2020-01-01 01:00:00     1        2          0     14750  20   2401.12   \n",
       "5182078 2020-01-01 01:00:00     1        2          0     71630  32  12139.16   \n",
       "5155774 2020-01-01 01:00:00     1        2          0     45840  28   6723.84   \n",
       "1280137 2020-01-01 01:00:00     1        2          0     76450  44  12949.24   \n",
       "\n",
       "         n_mean_load    elec    num  stn  nph_ta  nph_hm  nph_ws_10m  \\\n",
       "2647991   250.490543   99.63  13615  140    -8.5    74.5         0.9   \n",
       "5208382   116.010234  103.49  18235  565    -8.8    25.6         1.9   \n",
       "5182078   363.252769  104.43  18234  565    -8.8    25.6         1.9   \n",
       "5155774   225.924357  106.29  18233  512    -6.3    31.3         2.5   \n",
       "1280137   287.250770  102.45  11272  941     2.4    68.0         1.2   \n",
       "\n",
       "         nph_rn_60m  nph_ta_chi  year  month  day  season  \n",
       "2647991         0.0        -5.8  2020      1    1  Winter  \n",
       "5208382         0.0        -4.6  2020      1    1  Winter  \n",
       "5182078         0.0        -4.6  2020      1    1  Winter  \n",
       "5155774         0.0        -7.8  2020      1    1  Winter  \n",
       "1280137         0.0        -5.3  2020      1    1  Winter  "
      ]
     },
     "execution_count": 26,
     "metadata": {},
     "output_type": "execute_result"
    }
   ],
   "source": [
    "elec_cols = ['electric_train.'+ a for a in ['tm', 'hh24', 'weekday', 'week_name', 'sum_qctr', 'n', 'sum_load', 'n_mean_load', 'elec']]\n",
    "\n",
    "weat_cols = ['electric_train.'+ a for a in ['num', 'stn', 'nph_ta', 'nph_hm', 'nph_ws_10m', 'nph_rn_60m', 'nph_ta_chi']]\n",
    "\n",
    "reset_order_cols = elec_cols + weat_cols\n",
    "\n",
    "df_new = database[reset_order_cols]\n",
    "colunms = {}\n",
    "for col in reset_order_cols:\n",
    "    colunms[col] = col.split('.')[1]\n",
    "\n",
    "df_new = df_new.rename(columns=colunms)\n",
    "\n",
    "df_new['year'] = df_new['tm'].dt.year\n",
    "df_new['month'] = df_new['tm'].dt.month\n",
    "df_new['day'] = df_new['tm'].dt.day\n",
    "df_new = df_new.sort_values(by='tm')\n",
    "\n",
    "# 시즌을 결정하는 함수\n",
    "def get_season(month):\n",
    "    if month in [12, 1, 2]:\n",
    "        return 'Winter'\n",
    "    elif month in [3, 4, 5]:\n",
    "        return 'Spring'\n",
    "    elif month in [6, 7, 8]:\n",
    "        return 'Summer'\n",
    "    elif month in [9, 10, 11]:\n",
    "        return 'Fall'\n",
    "\n",
    "# 'season' 컬럼 추가\n",
    "df_new['season'] = df_new['tm'].dt.month.apply(get_season)\n",
    "\n",
    "df_new.head()"
   ]
  },
  {
   "cell_type": "code",
   "execution_count": 27,
   "metadata": {},
   "outputs": [
    {
     "data": {
      "text/html": [
       "<div>\n",
       "<style scoped>\n",
       "    .dataframe tbody tr th:only-of-type {\n",
       "        vertical-align: middle;\n",
       "    }\n",
       "\n",
       "    .dataframe tbody tr th {\n",
       "        vertical-align: top;\n",
       "    }\n",
       "\n",
       "    .dataframe thead th {\n",
       "        text-align: right;\n",
       "    }\n",
       "</style>\n",
       "<table border=\"1\" class=\"dataframe\">\n",
       "  <thead>\n",
       "    <tr style=\"text-align: right;\">\n",
       "      <th></th>\n",
       "      <th>tm</th>\n",
       "      <th>year</th>\n",
       "      <th>season</th>\n",
       "      <th>month</th>\n",
       "      <th>day</th>\n",
       "      <th>weekday</th>\n",
       "      <th>hh24</th>\n",
       "      <th>week_name</th>\n",
       "      <th>num</th>\n",
       "      <th>stn</th>\n",
       "      <th>nph_ta</th>\n",
       "      <th>nph_hm</th>\n",
       "      <th>nph_ws_10m</th>\n",
       "      <th>nph_rn_60m</th>\n",
       "      <th>nph_ta_chi</th>\n",
       "      <th>elec</th>\n",
       "    </tr>\n",
       "  </thead>\n",
       "  <tbody>\n",
       "    <tr>\n",
       "      <th>2647991</th>\n",
       "      <td>2020-01-01 01:00:00</td>\n",
       "      <td>2020</td>\n",
       "      <td>Winter</td>\n",
       "      <td>1</td>\n",
       "      <td>1</td>\n",
       "      <td>2</td>\n",
       "      <td>1</td>\n",
       "      <td>0</td>\n",
       "      <td>13615</td>\n",
       "      <td>140</td>\n",
       "      <td>-8.5</td>\n",
       "      <td>74.5</td>\n",
       "      <td>0.9</td>\n",
       "      <td>0.0</td>\n",
       "      <td>-5.8</td>\n",
       "      <td>99.63</td>\n",
       "    </tr>\n",
       "    <tr>\n",
       "      <th>5208382</th>\n",
       "      <td>2020-01-01 01:00:00</td>\n",
       "      <td>2020</td>\n",
       "      <td>Winter</td>\n",
       "      <td>1</td>\n",
       "      <td>1</td>\n",
       "      <td>2</td>\n",
       "      <td>1</td>\n",
       "      <td>0</td>\n",
       "      <td>18235</td>\n",
       "      <td>565</td>\n",
       "      <td>-8.8</td>\n",
       "      <td>25.6</td>\n",
       "      <td>1.9</td>\n",
       "      <td>0.0</td>\n",
       "      <td>-4.6</td>\n",
       "      <td>103.49</td>\n",
       "    </tr>\n",
       "    <tr>\n",
       "      <th>5182078</th>\n",
       "      <td>2020-01-01 01:00:00</td>\n",
       "      <td>2020</td>\n",
       "      <td>Winter</td>\n",
       "      <td>1</td>\n",
       "      <td>1</td>\n",
       "      <td>2</td>\n",
       "      <td>1</td>\n",
       "      <td>0</td>\n",
       "      <td>18234</td>\n",
       "      <td>565</td>\n",
       "      <td>-8.8</td>\n",
       "      <td>25.6</td>\n",
       "      <td>1.9</td>\n",
       "      <td>0.0</td>\n",
       "      <td>-4.6</td>\n",
       "      <td>104.43</td>\n",
       "    </tr>\n",
       "    <tr>\n",
       "      <th>5155774</th>\n",
       "      <td>2020-01-01 01:00:00</td>\n",
       "      <td>2020</td>\n",
       "      <td>Winter</td>\n",
       "      <td>1</td>\n",
       "      <td>1</td>\n",
       "      <td>2</td>\n",
       "      <td>1</td>\n",
       "      <td>0</td>\n",
       "      <td>18233</td>\n",
       "      <td>512</td>\n",
       "      <td>-6.3</td>\n",
       "      <td>31.3</td>\n",
       "      <td>2.5</td>\n",
       "      <td>0.0</td>\n",
       "      <td>-7.8</td>\n",
       "      <td>106.29</td>\n",
       "    </tr>\n",
       "    <tr>\n",
       "      <th>1280137</th>\n",
       "      <td>2020-01-01 01:00:00</td>\n",
       "      <td>2020</td>\n",
       "      <td>Winter</td>\n",
       "      <td>1</td>\n",
       "      <td>1</td>\n",
       "      <td>2</td>\n",
       "      <td>1</td>\n",
       "      <td>0</td>\n",
       "      <td>11272</td>\n",
       "      <td>941</td>\n",
       "      <td>2.4</td>\n",
       "      <td>68.0</td>\n",
       "      <td>1.2</td>\n",
       "      <td>0.0</td>\n",
       "      <td>-5.3</td>\n",
       "      <td>102.45</td>\n",
       "    </tr>\n",
       "  </tbody>\n",
       "</table>\n",
       "</div>"
      ],
      "text/plain": [
       "                         tm  year  season  month  day  weekday  hh24  \\\n",
       "2647991 2020-01-01 01:00:00  2020  Winter      1    1        2     1   \n",
       "5208382 2020-01-01 01:00:00  2020  Winter      1    1        2     1   \n",
       "5182078 2020-01-01 01:00:00  2020  Winter      1    1        2     1   \n",
       "5155774 2020-01-01 01:00:00  2020  Winter      1    1        2     1   \n",
       "1280137 2020-01-01 01:00:00  2020  Winter      1    1        2     1   \n",
       "\n",
       "         week_name    num  stn  nph_ta  nph_hm  nph_ws_10m  nph_rn_60m  \\\n",
       "2647991          0  13615  140    -8.5    74.5         0.9         0.0   \n",
       "5208382          0  18235  565    -8.8    25.6         1.9         0.0   \n",
       "5182078          0  18234  565    -8.8    25.6         1.9         0.0   \n",
       "5155774          0  18233  512    -6.3    31.3         2.5         0.0   \n",
       "1280137          0  11272  941     2.4    68.0         1.2         0.0   \n",
       "\n",
       "         nph_ta_chi    elec  \n",
       "2647991        -5.8   99.63  \n",
       "5208382        -4.6  103.49  \n",
       "5182078        -4.6  104.43  \n",
       "5155774        -7.8  106.29  \n",
       "1280137        -5.3  102.45  "
      ]
     },
     "execution_count": 27,
     "metadata": {},
     "output_type": "execute_result"
    }
   ],
   "source": [
    "cols_for_test = [\n",
    "        'tm', 'year', 'season', 'month','day', 'weekday', 'hh24','week_name', \n",
    "        'num',\n",
    "        'stn', 'nph_ta','nph_hm', 'nph_ws_10m',\n",
    "       'nph_rn_60m', 'nph_ta_chi', 'elec']\n",
    "\n",
    "df_train = df_new[cols_for_test]\n",
    "\n",
    "df_train.head()"
   ]
  },
  {
   "cell_type": "markdown",
   "metadata": {},
   "source": [
    "### 이상치 처리"
   ]
  },
  {
   "cell_type": "code",
   "execution_count": 28,
   "metadata": {},
   "outputs": [],
   "source": [
    "# 온도별 elec의 이상치 처리 \n",
    "for idx in list(df_train.loc[df_train['elec'] < 0, 'nph_ta'].index):\n",
    "    area_num = df_train.loc[idx]['num']\n",
    "    season = df_train.loc[idx]['season']\n",
    "    year = df_train.loc[idx]['year']\n",
    "    temp = df_train.loc[idx]['nph_ta']\n",
    "    df_train.loc[idx, 'elec'] = \\\n",
    "        df_train.loc[(df_train.loc[idx]['num'] == area_num) & (df_train.loc[idx]['year'] == year) & (df_train.loc[idx]['season'] == season) & (df_train['nph_ta'] == temp), :]['elec'].mean()\n",
    "        # 해당 지역의 해당 연도의 해당 시즌의 해당 온도와 같은 날의 elec의 평균"
   ]
  },
  {
   "cell_type": "code",
   "execution_count": 29,
   "metadata": {},
   "outputs": [],
   "source": [
    "# 풍속이 음수인 값을 갖는 이상치 처리\n",
    "\n",
    "ano_list = list(df_train.loc[df_train['nph_ws_10m'] < 0, 'nph_ws_10m'].index)\n",
    "for idx in ano_list:\n",
    "    pre_idx = idx - 1\n",
    "    nex_idx = idx + 1\n",
    "\n",
    "    previous_value = df_train.loc[pre_idx, 'nph_ws_10m']\n",
    "    next_value = df_train.loc[nex_idx, 'nph_ws_10m']\n",
    "    mean_val = (previous_value + next_value) / 2\n",
    "    df_train.loc[idx, 'nph_ws_10m'] = mean_val"
   ]
  },
  {
   "cell_type": "code",
   "execution_count": 30,
   "metadata": {},
   "outputs": [
    {
     "name": "stdout",
     "output_type": "stream",
     "text": [
      "185\n",
      "[140 565 512 941 114 940 459 937 364 445]\n"
     ]
    }
   ],
   "source": [
    "print(len(df_train['stn'].unique()))\n",
    "print(df_train['stn'].unique()[:10])"
   ]
  },
  {
   "cell_type": "code",
   "execution_count": 31,
   "metadata": {},
   "outputs": [],
   "source": [
    "df_stn_140 = df_train[df_train['stn']==140]"
   ]
  },
  {
   "cell_type": "code",
   "execution_count": 32,
   "metadata": {},
   "outputs": [
    {
     "data": {
      "text/html": [
       "<div>\n",
       "<style scoped>\n",
       "    .dataframe tbody tr th:only-of-type {\n",
       "        vertical-align: middle;\n",
       "    }\n",
       "\n",
       "    .dataframe tbody tr th {\n",
       "        vertical-align: top;\n",
       "    }\n",
       "\n",
       "    .dataframe thead th {\n",
       "        text-align: right;\n",
       "    }\n",
       "</style>\n",
       "<table border=\"1\" class=\"dataframe\">\n",
       "  <thead>\n",
       "    <tr style=\"text-align: right;\">\n",
       "      <th></th>\n",
       "      <th>num</th>\n",
       "      <th>day0</th>\n",
       "      <th>day1</th>\n",
       "      <th>day2</th>\n",
       "      <th>day3</th>\n",
       "      <th>day4</th>\n",
       "      <th>day5</th>\n",
       "      <th>day6</th>\n",
       "      <th>hh24:0</th>\n",
       "      <th>hh24:1</th>\n",
       "      <th>...</th>\n",
       "      <th>hh24:14</th>\n",
       "      <th>hh24:15</th>\n",
       "      <th>hh24:16</th>\n",
       "      <th>hh24:17</th>\n",
       "      <th>hh24:18</th>\n",
       "      <th>hh24:19</th>\n",
       "      <th>hh24:20</th>\n",
       "      <th>hh24:21</th>\n",
       "      <th>hh24:22</th>\n",
       "      <th>hh24:23</th>\n",
       "    </tr>\n",
       "  </thead>\n",
       "  <tbody>\n",
       "    <tr>\n",
       "      <th>0</th>\n",
       "      <td>13614</td>\n",
       "      <td>94.625</td>\n",
       "      <td>93.900</td>\n",
       "      <td>94.29</td>\n",
       "      <td>94.080</td>\n",
       "      <td>94.255</td>\n",
       "      <td>97.875</td>\n",
       "      <td>100.34</td>\n",
       "      <td>93.255</td>\n",
       "      <td>83.135</td>\n",
       "      <td>...</td>\n",
       "      <td>88.115</td>\n",
       "      <td>89.07</td>\n",
       "      <td>95.005</td>\n",
       "      <td>109.985</td>\n",
       "      <td>122.075</td>\n",
       "      <td>126.015</td>\n",
       "      <td>125.51</td>\n",
       "      <td>123.170</td>\n",
       "      <td>115.905</td>\n",
       "      <td>105.235</td>\n",
       "    </tr>\n",
       "    <tr>\n",
       "      <th>1</th>\n",
       "      <td>13615</td>\n",
       "      <td>94.125</td>\n",
       "      <td>93.095</td>\n",
       "      <td>93.38</td>\n",
       "      <td>93.235</td>\n",
       "      <td>93.335</td>\n",
       "      <td>97.655</td>\n",
       "      <td>99.86</td>\n",
       "      <td>91.530</td>\n",
       "      <td>79.790</td>\n",
       "      <td>...</td>\n",
       "      <td>87.760</td>\n",
       "      <td>87.87</td>\n",
       "      <td>94.505</td>\n",
       "      <td>111.550</td>\n",
       "      <td>126.385</td>\n",
       "      <td>129.505</td>\n",
       "      <td>129.07</td>\n",
       "      <td>126.485</td>\n",
       "      <td>117.775</td>\n",
       "      <td>105.135</td>\n",
       "    </tr>\n",
       "  </tbody>\n",
       "</table>\n",
       "<p>2 rows × 32 columns</p>\n",
       "</div>"
      ],
      "text/plain": [
       "     num    day0    day1   day2    day3    day4    day5    day6  hh24:0  \\\n",
       "0  13614  94.625  93.900  94.29  94.080  94.255  97.875  100.34  93.255   \n",
       "1  13615  94.125  93.095  93.38  93.235  93.335  97.655   99.86  91.530   \n",
       "\n",
       "   hh24:1  ...  hh24:14  hh24:15  hh24:16  hh24:17  hh24:18  hh24:19  hh24:20  \\\n",
       "0  83.135  ...   88.115    89.07   95.005  109.985  122.075  126.015   125.51   \n",
       "1  79.790  ...   87.760    87.87   94.505  111.550  126.385  129.505   129.07   \n",
       "\n",
       "   hh24:21  hh24:22  hh24:23  \n",
       "0  123.170  115.905  105.235  \n",
       "1  126.485  117.775  105.135  \n",
       "\n",
       "[2 rows x 32 columns]"
      ]
     },
     "execution_count": 32,
     "metadata": {},
     "output_type": "execute_result"
    }
   ],
   "source": [
    "# 건물을 기준으로 하는 data frame 생성\n",
    "by_weekday = df_stn_140.groupby(['num','weekday'])['elec'].median().reset_index().pivot(index='num',columns='weekday',values='elec').reset_index()\n",
    "by_hour = df_stn_140.groupby(['num','hh24'])['elec'].median().reset_index().pivot(index='num',columns='hh24',values='elec').reset_index().drop('num', axis = 1)\n",
    "df = pd.concat([by_weekday, by_hour], axis= 1)\n",
    "columns = ['num'] + ['day'+str(i) for i in range(7)] + ['hh24:'+str(i) for i in range(24)]\n",
    "df.columns = columns\n",
    "\n",
    "df.head()"
   ]
  },
  {
   "cell_type": "code",
   "execution_count": 33,
   "metadata": {},
   "outputs": [],
   "source": [
    "# '전력사용량'이 아닌 '요일과 시간대에 따른 전력 사용량의 경향성'에 따라서만 군집화 할 것이므로, 특수한 scaling이 필요함\n",
    "# standard scaling\n",
    "for i in range(len(df)):\n",
    "    # 요일 별 전력 중앙값에 대해 scaling\n",
    "    df.iloc[i,1:8] = (df.iloc[i,1:8] - df.iloc[i,1:8].mean())/df.iloc[i,1:8].std()\n",
    "    # 시간대별 전력 중앙값에 대해 scaling\n",
    "    df.iloc[i,8:] = (df.iloc[i,8:] - df.iloc[i,8:].mean())/df.iloc[i,8:].std()"
   ]
  },
  {
   "cell_type": "code",
   "execution_count": 34,
   "metadata": {},
   "outputs": [
    {
     "data": {
      "image/png": "[encoded data removed]",
      "text/plain": [
       "<Figure size 1000x300 with 1 Axes>"
      ]
     },
     "metadata": {},
     "output_type": "display_data"
    },
    {
     "data": {
      "image/png": "[encoded data removed]",
      "text/plain": [
       "<Figure size 2000x300 with 1 Axes>"
      ]
     },
     "metadata": {},
     "output_type": "display_data"
    }
   ],
   "source": [
    "# visualization\n",
    "fig = plt.figure(figsize = (10,3))\n",
    "for i in range(len(df)):\n",
    "    plt.plot(df.iloc[i, 1:8], alpha = 0.5, linewidth = 0.5)\n",
    "fig = plt.figure(figsize = (20,3))\n",
    "for i in range(len(df)):\n",
    "    plt.plot(df.iloc[i, 8:], alpha = 0.5, linewidth = 0.5)"
   ]
  },
  {
   "cell_type": "code",
   "execution_count": 35,
   "metadata": {},
   "outputs": [
    {
     "name": "stdout",
     "output_type": "stream",
     "text": [
      "2020-01-01 01:00:00 2023-01-01 00:00:00\n",
      "23\n",
      "300\n"
     ]
    }
   ],
   "source": [
    "# 먼저 2020년 기록이 있는 데이터와 없는 데이터끼리 나눠보자 \n",
    "spots_num = sorted(df_train['num'].unique().tolist())\n",
    "df_1 = df_train[df_train['num']==spots_num[1]]\n",
    "\n",
    "print(df_1['tm'].min(), df_1['tm'].max())\n",
    "\n",
    "no_2020 = []\n",
    "yes_2020 = []\n",
    "for i in range(len(spots_num)):\n",
    "    a = str(df_train[df_train['num']==spots_num[i]]['tm'].min())\n",
    "    b = str(df_1['tm'].min())\n",
    "\n",
    "    if a != b:\n",
    "        no_2020.append(spots_num[i])\n",
    "    else:\n",
    "        yes_2020.append(spots_num[i])\n",
    "        \n",
    "print(len(no_2020))  # 2020년도 데이터가 없는 격자 지역 개수 23개\n",
    "print(len(yes_2020)) # 2020년도 데이터가 있는 격자 지역 개수 300개"
   ]
  },
  {
   "cell_type": "code",
   "execution_count": 37,
   "metadata": {},
   "outputs": [],
   "source": [
    "df1 = df_train[df_train['num'].isin(yes_2020)]\n",
    "df2 = df_train[df_train['num'].isin(no_2020)]"
   ]
  },
  {
   "cell_type": "code",
   "execution_count": 38,
   "metadata": {},
   "outputs": [
    {
     "name": "stdout",
     "output_type": "stream",
     "text": [
      "[16900 16913 18828 14378 14258 15849 13648  4821  8994 10224 10975 12618\n",
      " 12467 12322 13202 12619 11271 11562 11376 11119  9609 10976 13360]\n",
      "23\n",
      "------------------------------\n",
      "[495 127 511 605 138 177 845 884 261 313 942 152 900 901 827 941 899 252\n",
      " 908 168 283]\n",
      "21\n"
     ]
    }
   ],
   "source": [
    "print(df2['num'].unique())\n",
    "\n",
    "print(len(df2['num'].unique()))\n",
    "\n",
    "print('---'*10)\n",
    "\n",
    "print(df2['stn'].unique())\n",
    "\n",
    "print(len(df2['stn'].unique()))"
   ]
  },
  {
   "cell_type": "code",
   "execution_count": 39,
   "metadata": {},
   "outputs": [
    {
     "data": {
      "image/png": "[encoded data removed]",
      "text/plain": [
       "<Figure size 1500x500 with 10 Axes>"
      ]
     },
     "metadata": {},
     "output_type": "display_data"
    }
   ],
   "source": [
    "fig = plt.figure(figsize = (15, 5))\n",
    "for idx, num in enumerate(no_2020[:10]):\n",
    "    ax = plt.subplot(2, 5, 1+idx)\n",
    "    energy = df2.loc[df2['num'] == no_2020[idx], 'elec'].values\n",
    "    mean = energy.mean().round(3)           # 평균\n",
    "    std = energy.std().round(3)             # 편차\n",
    "    skew = (3*(mean - np.median(energy))/energy.std()).round(3) # 왜도\n",
    "\n",
    "    # 왜도에 따라 \n",
    "    if skew >= 1.5:\n",
    "        plt.hist(energy, alpha = 0.7, bins = 50, color = 'red')\n",
    "    elif skew <= -1.5:\n",
    "        plt.hist(energy, alpha = 0.7, bins = 50, color = 'blue')\n",
    "    else:\n",
    "        plt.hist(energy, alpha = 0.7, bins = 50, color = 'gray')\n",
    "        \n",
    "    plt.title(f'격자넘버: {no_2020[idx]}')\n",
    "    plt.xticks([])\n",
    "    plt.yticks([])\n",
    "    plt.xlabel('')\n",
    "    plt.ylabel('')\n",
    "    \n",
    "plt.tight_layout()\n",
    "plt.show()"
   ]
  },
  {
   "cell_type": "code",
   "execution_count": 41,
   "metadata": {},
   "outputs": [
    {
     "data": {
      "image/png": "[encoded data removed]",
      "text/plain": [
       "<Figure size 1500x500 with 10 Axes>"
      ]
     },
     "metadata": {},
     "output_type": "display_data"
    }
   ],
   "source": [
    "# 온도\n",
    "fig = plt.figure(figsize = (15, 5))\n",
    "for idx, num in enumerate(no_2020[:10]):\n",
    "    ax = plt.subplot(2, 5, 1+idx)\n",
    "    energy = df2.loc[df2['num'] == no_2020[idx], 'nph_ta'].values\n",
    "\n",
    "    plt.hist(energy, alpha = 0.7, bins = 50, color = 'gray')\n",
    "        \n",
    "    plt.title(f'격자넘버: {no_2020[idx]}')\n",
    "    plt.xticks([])\n",
    "    plt.yticks([])\n",
    "    plt.xlabel('')\n",
    "    plt.ylabel('')\n",
    "    \n",
    "plt.tight_layout()\n",
    "plt.show()\n",
    "\n"
   ]
  },
  {
   "cell_type": "code",
   "execution_count": 42,
   "metadata": {},
   "outputs": [
    {
     "data": {
      "text/plain": [
       "140"
      ]
     },
     "execution_count": 42,
     "metadata": {},
     "output_type": "execute_result"
    }
   ],
   "source": [
    "df_train['stn'].unique()[0]"
   ]
  },
  {
   "cell_type": "code",
   "execution_count": 47,
   "metadata": {},
   "outputs": [
    {
     "name": "stdout",
     "output_type": "stream",
     "text": [
      "6\n",
      "[846]\n"
     ]
    }
   ],
   "source": [
    "stn_nums = []\n",
    "most = 0\n",
    "for stn in df_train['stn'].unique():\n",
    "    \n",
    "    nums_num = len(df_train[df_train['stn']==stn]['num'].unique())\n",
    "    stn_nums.append([stn,nums_num])\n",
    "    stn_nums[stn] = nums_num\n",
    "    \n",
    "\n",
    "stn_nums.sort(key=lambda x:x[1])\n",
    "\n",
    "print(stn_nums)"
   ]
  },
  {
   "cell_type": "code",
   "execution_count": 49,
   "metadata": {},
   "outputs": [],
   "source": [
    "df_stn_846 = df_train[df_train['stn']==846]"
   ]
  },
  {
   "cell_type": "code",
   "execution_count": 50,
   "metadata": {},
   "outputs": [
    {
     "data": {
      "text/plain": [
       "array([13349, 13348, 13498, 13199, 13200, 13497], dtype=int64)"
      ]
     },
     "execution_count": 50,
     "metadata": {},
     "output_type": "execute_result"
    }
   ],
   "source": [
    "df_stn_846['num'].unique()"
   ]
  },
  {
   "cell_type": "code",
   "execution_count": 52,
   "metadata": {},
   "outputs": [
    {
     "data": {
      "text/plain": [
       "13349"
      ]
     },
     "execution_count": 52,
     "metadata": {},
     "output_type": "execute_result"
    }
   ],
   "source": [
    "df_stn_846['num'].unique()[0]"
   ]
  },
  {
   "cell_type": "code",
   "execution_count": 53,
   "metadata": {},
   "outputs": [
    {
     "data": {
      "image/png": "[encoded data removed]",
      "text/plain": [
       "<Figure size 1500x500 with 6 Axes>"
      ]
     },
     "metadata": {},
     "output_type": "display_data"
    }
   ],
   "source": [
    "fig = plt.figure(figsize = (15, 5))\n",
    "for idx, num in enumerate(df_stn_846['num'].unique()):\n",
    "    ax = plt.subplot(2, 5, 1+idx)\n",
    "    energy = df_stn_846['nph_ta'].values\n",
    "\n",
    "    plt.hist(energy, alpha = 0.7, bins = 50, color = 'gray')\n",
    "    \n",
    "    num = df_stn_846['num'].unique()[idx]\n",
    "    plt.title(f'격자넘버: {num}')\n",
    "    plt.xticks([])\n",
    "    plt.yticks([])\n",
    "    plt.xlabel('')\n",
    "    plt.ylabel('')\n",
    "    \n",
    "plt.tight_layout()\n",
    "plt.show()"
   ]
  },
  {
   "cell_type": "code",
   "execution_count": 54,
   "metadata": {},
   "outputs": [
    {
     "data": {
      "image/png": "[encoded data removed]",
      "text/plain": [
       "<Figure size 1500x500 with 4 Axes>"
      ]
     },
     "metadata": {},
     "output_type": "display_data"
    }
   ],
   "source": [
    "aws_num = df_train['stn'].unique()[1]\n",
    "df_temp = df_train[df_train['stn']==aws_num]\n",
    "\n",
    "fig = plt.figure(figsize = (15, 5))\n",
    "for idx, num in enumerate(df_temp['num'].unique()):\n",
    "    ax = plt.subplot(2, 5, 1+idx)\n",
    "    energy = df_temp['nph_ta'].values\n",
    "\n",
    "    plt.hist(energy, alpha = 0.7, bins = 50, color = 'gray')\n",
    "    \n",
    "    num = df_temp['num'].unique()[idx]\n",
    "    plt.title(f'격자넘버: {num}')\n",
    "    plt.xticks([])\n",
    "    plt.yticks([])\n",
    "    plt.xlabel('')\n",
    "    plt.ylabel('')\n",
    "    \n",
    "plt.tight_layout()\n",
    "plt.show()"
   ]
  },
  {
   "cell_type": "code",
   "execution_count": 55,
   "metadata": {},
   "outputs": [
    {
     "data": {
      "text/html": [
       "<div>\n",
       "<style scoped>\n",
       "    .dataframe tbody tr th:only-of-type {\n",
       "        vertical-align: middle;\n",
       "    }\n",
       "\n",
       "    .dataframe tbody tr th {\n",
       "        vertical-align: top;\n",
       "    }\n",
       "\n",
       "    .dataframe thead th {\n",
       "        text-align: right;\n",
       "    }\n",
       "</style>\n",
       "<table border=\"1\" class=\"dataframe\">\n",
       "  <thead>\n",
       "    <tr style=\"text-align: right;\">\n",
       "      <th></th>\n",
       "      <th>tm</th>\n",
       "      <th>year</th>\n",
       "      <th>season</th>\n",
       "      <th>month</th>\n",
       "      <th>day</th>\n",
       "      <th>weekday</th>\n",
       "      <th>hh24</th>\n",
       "      <th>week_name</th>\n",
       "      <th>num</th>\n",
       "      <th>stn</th>\n",
       "      <th>nph_ta</th>\n",
       "      <th>nph_hm</th>\n",
       "      <th>nph_ws_10m</th>\n",
       "      <th>nph_rn_60m</th>\n",
       "      <th>nph_ta_chi</th>\n",
       "      <th>elec</th>\n",
       "    </tr>\n",
       "  </thead>\n",
       "  <tbody>\n",
       "    <tr>\n",
       "      <th>5208382</th>\n",
       "      <td>2020-01-01 01:00:00</td>\n",
       "      <td>2020</td>\n",
       "      <td>Winter</td>\n",
       "      <td>1</td>\n",
       "      <td>1</td>\n",
       "      <td>2</td>\n",
       "      <td>1</td>\n",
       "      <td>0</td>\n",
       "      <td>18235</td>\n",
       "      <td>565</td>\n",
       "      <td>-8.8</td>\n",
       "      <td>25.6</td>\n",
       "      <td>1.9</td>\n",
       "      <td>0.0</td>\n",
       "      <td>-4.6</td>\n",
       "      <td>103.49</td>\n",
       "    </tr>\n",
       "    <tr>\n",
       "      <th>5182078</th>\n",
       "      <td>2020-01-01 01:00:00</td>\n",
       "      <td>2020</td>\n",
       "      <td>Winter</td>\n",
       "      <td>1</td>\n",
       "      <td>1</td>\n",
       "      <td>2</td>\n",
       "      <td>1</td>\n",
       "      <td>0</td>\n",
       "      <td>18234</td>\n",
       "      <td>565</td>\n",
       "      <td>-8.8</td>\n",
       "      <td>25.6</td>\n",
       "      <td>1.9</td>\n",
       "      <td>0.0</td>\n",
       "      <td>-4.6</td>\n",
       "      <td>104.43</td>\n",
       "    </tr>\n",
       "    <tr>\n",
       "      <th>4945342</th>\n",
       "      <td>2020-01-01 01:00:00</td>\n",
       "      <td>2020</td>\n",
       "      <td>Winter</td>\n",
       "      <td>1</td>\n",
       "      <td>1</td>\n",
       "      <td>2</td>\n",
       "      <td>1</td>\n",
       "      <td>0</td>\n",
       "      <td>18086</td>\n",
       "      <td>565</td>\n",
       "      <td>-8.8</td>\n",
       "      <td>25.6</td>\n",
       "      <td>1.9</td>\n",
       "      <td>0.0</td>\n",
       "      <td>-4.6</td>\n",
       "      <td>103.66</td>\n",
       "    </tr>\n",
       "    <tr>\n",
       "      <th>4919038</th>\n",
       "      <td>2020-01-01 01:00:00</td>\n",
       "      <td>2020</td>\n",
       "      <td>Winter</td>\n",
       "      <td>1</td>\n",
       "      <td>1</td>\n",
       "      <td>2</td>\n",
       "      <td>1</td>\n",
       "      <td>0</td>\n",
       "      <td>18085</td>\n",
       "      <td>565</td>\n",
       "      <td>-8.8</td>\n",
       "      <td>25.6</td>\n",
       "      <td>1.9</td>\n",
       "      <td>0.0</td>\n",
       "      <td>-4.6</td>\n",
       "      <td>103.71</td>\n",
       "    </tr>\n",
       "    <tr>\n",
       "      <th>4945343</th>\n",
       "      <td>2020-01-01 02:00:00</td>\n",
       "      <td>2020</td>\n",
       "      <td>Winter</td>\n",
       "      <td>1</td>\n",
       "      <td>1</td>\n",
       "      <td>2</td>\n",
       "      <td>2</td>\n",
       "      <td>0</td>\n",
       "      <td>18086</td>\n",
       "      <td>565</td>\n",
       "      <td>-8.2</td>\n",
       "      <td>25.6</td>\n",
       "      <td>2.0</td>\n",
       "      <td>0.0</td>\n",
       "      <td>-4.7</td>\n",
       "      <td>98.91</td>\n",
       "    </tr>\n",
       "  </tbody>\n",
       "</table>\n",
       "</div>"
      ],
      "text/plain": [
       "                         tm  year  season  month  day  weekday  hh24  \\\n",
       "5208382 2020-01-01 01:00:00  2020  Winter      1    1        2     1   \n",
       "5182078 2020-01-01 01:00:00  2020  Winter      1    1        2     1   \n",
       "4945342 2020-01-01 01:00:00  2020  Winter      1    1        2     1   \n",
       "4919038 2020-01-01 01:00:00  2020  Winter      1    1        2     1   \n",
       "4945343 2020-01-01 02:00:00  2020  Winter      1    1        2     2   \n",
       "\n",
       "         week_name    num  stn  nph_ta  nph_hm  nph_ws_10m  nph_rn_60m  \\\n",
       "5208382          0  18235  565    -8.8    25.6         1.9         0.0   \n",
       "5182078          0  18234  565    -8.8    25.6         1.9         0.0   \n",
       "4945342          0  18086  565    -8.8    25.6         1.9         0.0   \n",
       "4919038          0  18085  565    -8.8    25.6         1.9         0.0   \n",
       "4945343          0  18086  565    -8.2    25.6         2.0         0.0   \n",
       "\n",
       "         nph_ta_chi    elec  \n",
       "5208382        -4.6  103.49  \n",
       "5182078        -4.6  104.43  \n",
       "4945342        -4.6  103.66  \n",
       "4919038        -4.6  103.71  \n",
       "4945343        -4.7   98.91  "
      ]
     },
     "execution_count": 55,
     "metadata": {},
     "output_type": "execute_result"
    }
   ],
   "source": [
    "df_temp.head()"
   ]
  },
  {
   "cell_type": "code",
   "execution_count": 56,
   "metadata": {},
   "outputs": [
    {
     "data": {
      "text/plain": [
       "array([18235, 18234, 18086, 18085], dtype=int64)"
      ]
     },
     "execution_count": 56,
     "metadata": {},
     "output_type": "execute_result"
    }
   ],
   "source": [
    "df_temp['num'].unique()"
   ]
  },
  {
   "cell_type": "code",
   "execution_count": 65,
   "metadata": {},
   "outputs": [
    {
     "data": {
      "text/html": [
       "<div>\n",
       "<style scoped>\n",
       "    .dataframe tbody tr th:only-of-type {\n",
       "        vertical-align: middle;\n",
       "    }\n",
       "\n",
       "    .dataframe tbody tr th {\n",
       "        vertical-align: top;\n",
       "    }\n",
       "\n",
       "    .dataframe thead th {\n",
       "        text-align: right;\n",
       "    }\n",
       "</style>\n",
       "<table border=\"1\" class=\"dataframe\">\n",
       "  <thead>\n",
       "    <tr style=\"text-align: right;\">\n",
       "      <th></th>\n",
       "      <th>stn</th>\n",
       "      <th>nph_ta</th>\n",
       "      <th>nph_hm</th>\n",
       "      <th>nph_ws_10m</th>\n",
       "      <th>nph_rn_60m</th>\n",
       "      <th>nph_ta_chi</th>\n",
       "    </tr>\n",
       "  </thead>\n",
       "  <tbody>\n",
       "    <tr>\n",
       "      <th>5208382</th>\n",
       "      <td>565</td>\n",
       "      <td>-8.8</td>\n",
       "      <td>25.6</td>\n",
       "      <td>1.9</td>\n",
       "      <td>0.0</td>\n",
       "      <td>-4.6</td>\n",
       "    </tr>\n",
       "  </tbody>\n",
       "</table>\n",
       "</div>"
      ],
      "text/plain": [
       "         stn  nph_ta  nph_hm  nph_ws_10m  nph_rn_60m  nph_ta_chi\n",
       "5208382  565    -8.8    25.6         1.9         0.0        -4.6"
      ]
     },
     "execution_count": 65,
     "metadata": {},
     "output_type": "execute_result"
    }
   ],
   "source": [
    "check_cols = ['stn', 'nph_ta', 'nph_hm', 'nph_ws_10m', 'nph_rn_60m', 'nph_ta_chi']\n",
    "\n",
    "df_temp[(df_temp['num']==18235) & (df_temp.tm=='2020-01-01 01:00:00')][check_cols].iloc[:2]"
   ]
  },
  {
   "cell_type": "code",
   "execution_count": 66,
   "metadata": {},
   "outputs": [
    {
     "data": {
      "text/html": [
       "<div>\n",
       "<style scoped>\n",
       "    .dataframe tbody tr th:only-of-type {\n",
       "        vertical-align: middle;\n",
       "    }\n",
       "\n",
       "    .dataframe tbody tr th {\n",
       "        vertical-align: top;\n",
       "    }\n",
       "\n",
       "    .dataframe thead th {\n",
       "        text-align: right;\n",
       "    }\n",
       "</style>\n",
       "<table border=\"1\" class=\"dataframe\">\n",
       "  <thead>\n",
       "    <tr style=\"text-align: right;\">\n",
       "      <th></th>\n",
       "      <th>stn</th>\n",
       "      <th>nph_ta</th>\n",
       "      <th>nph_hm</th>\n",
       "      <th>nph_ws_10m</th>\n",
       "      <th>nph_rn_60m</th>\n",
       "      <th>nph_ta_chi</th>\n",
       "    </tr>\n",
       "  </thead>\n",
       "  <tbody>\n",
       "    <tr>\n",
       "      <th>5182078</th>\n",
       "      <td>565</td>\n",
       "      <td>-8.8</td>\n",
       "      <td>25.6</td>\n",
       "      <td>1.9</td>\n",
       "      <td>0.0</td>\n",
       "      <td>-4.6</td>\n",
       "    </tr>\n",
       "  </tbody>\n",
       "</table>\n",
       "</div>"
      ],
      "text/plain": [
       "         stn  nph_ta  nph_hm  nph_ws_10m  nph_rn_60m  nph_ta_chi\n",
       "5182078  565    -8.8    25.6         1.9         0.0        -4.6"
      ]
     },
     "execution_count": 66,
     "metadata": {},
     "output_type": "execute_result"
    }
   ],
   "source": [
    "df_temp[(df_temp['num']==18234) & (df_temp.tm=='2020-01-01 01:00:00')][check_cols].iloc[:2]"
   ]
  },
  {
   "cell_type": "code",
   "execution_count": null,
   "metadata": {},
   "outputs": [],
   "source": []
  }
 ],
 "metadata": {
  "kernelspec": {
   "display_name": "contest",
   "language": "python",
   "name": "python3"
  },
  "language_info": {
   "codemirror_mode": {
    "name": "ipython",
    "version": 3
   },
   "file_extension": ".py",
   "mimetype": "text/x-python",
   "name": "python",
   "nbconvert_exporter": "python",
   "pygments_lexer": "ipython3",
   "version": "3.11.9"
  }
 },
 "nbformat": 4,
 "nbformat_minor": 2
}
